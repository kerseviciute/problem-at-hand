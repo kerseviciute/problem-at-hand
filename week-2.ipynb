{
 "cells": [
  {
   "cell_type": "markdown",
   "id": "8f7f56dd",
   "metadata": {},
   "source": [
    "# Week 2: independent work\n",
    "\n",
    "The goal of this notebook is for you to:\n",
    "    \n",
    "1. Learn about main Python variable types: `int`, `float`, `string` and `bool`\n",
    "2. Learn the main differences between main Python **collections**: `list`, `tuple`, `set` and `dict`\n",
    "3. Learn what is indexing, slicing, what is mutable vs. immutable, ordered vs. unordered\n",
    "4. Learn main operations available for collections\n",
    "\n",
    "Read through the document with examples provided in cells.\n",
    "* There are some exercises in the notebook which are not graded.\n",
    "* During the Week 3 lecture, you will complete a short quiz on these topics.\n",
    "\n",
    "There are also slides which contain the same information in slightly different format, so you can choose what works better for you.\n",
    "\n",
    "#### A tip for using this notebook\n",
    "* If you modified code or ran cells several times out of order, some examples may break. If that happens, in the upper menu, press \"Kernel\" -> \"Restart & Clear Output\", then run cells sequentially one time each. \"Restart & Run all\" won't work because some cells purposedly will produce an error stopping the notebook from running to the end."
   ]
  },
  {
   "cell_type": "markdown",
   "id": "78325a1e",
   "metadata": {},
   "source": [
    "# Python variable types"
   ]
  },
  {
   "cell_type": "markdown",
   "id": "8554925f",
   "metadata": {},
   "source": [
    "These are main variable types available in Python (without importing additional packages):\n",
    "* `int` - integers, or whole numbers\n",
    "* `float` - floating point numbers\n",
    "* `str` - strings of symbols, should be enclosed in `''` or `\"\"`\n",
    "* `bool` - a boolean value, either `True` or `False`\n",
    "\n",
    "There are also `complex` numbers, as well as the special `None` value which has the `NoneType` type. `None` can be understood as an empty value.\n",
    "\n",
    "To check the type of a variable, use `type()` command:"
   ]
  },
  {
   "cell_type": "code",
   "execution_count": 1,
   "id": "2997aea2",
   "metadata": {},
   "outputs": [
    {
     "data": {
      "text/plain": [
       "int"
      ]
     },
     "execution_count": 1,
     "metadata": {},
     "output_type": "execute_result"
    }
   ],
   "source": [
    "type(42)"
   ]
  },
  {
   "cell_type": "code",
   "execution_count": 2,
   "id": "dddf7069",
   "metadata": {},
   "outputs": [
    {
     "data": {
      "text/plain": [
       "float"
      ]
     },
     "execution_count": 2,
     "metadata": {},
     "output_type": "execute_result"
    }
   ],
   "source": [
    "type(42.0)"
   ]
  },
  {
   "cell_type": "code",
   "execution_count": 3,
   "id": "cfb76e99",
   "metadata": {},
   "outputs": [
    {
     "data": {
      "text/plain": [
       "str"
      ]
     },
     "execution_count": 3,
     "metadata": {},
     "output_type": "execute_result"
    }
   ],
   "source": [
    "type('42')"
   ]
  },
  {
   "cell_type": "code",
   "execution_count": 4,
   "id": "07070602",
   "metadata": {},
   "outputs": [
    {
     "data": {
      "text/plain": [
       "bool"
      ]
     },
     "execution_count": 4,
     "metadata": {},
     "output_type": "execute_result"
    }
   ],
   "source": [
    "type(False)"
   ]
  },
  {
   "cell_type": "code",
   "execution_count": 5,
   "id": "28e650bf",
   "metadata": {},
   "outputs": [
    {
     "data": {
      "text/plain": [
       "NoneType"
      ]
     },
     "execution_count": 5,
     "metadata": {},
     "output_type": "execute_result"
    }
   ],
   "source": [
    "type(None)"
   ]
  },
  {
   "cell_type": "markdown",
   "id": "0abc3e37",
   "metadata": {},
   "source": [
    "Different variable types allow different operations. Actually, `int`, `float`, `str` etc. are **objects** which have their own sets of functions and rules.\n",
    "\n",
    "Sometimes the names or symbols of these functions can overlap between types. For example, the operator `+` adds numbers mathematically, but it can also concatenate strings:"
   ]
  },
  {
   "cell_type": "code",
   "execution_count": 6,
   "id": "cbadc59e",
   "metadata": {},
   "outputs": [
    {
     "data": {
      "text/plain": [
       "15"
      ]
     },
     "execution_count": 6,
     "metadata": {},
     "output_type": "execute_result"
    }
   ],
   "source": [
    "5 + 10"
   ]
  },
  {
   "cell_type": "code",
   "execution_count": 7,
   "id": "ae3b70cf",
   "metadata": {},
   "outputs": [
    {
     "data": {
      "text/plain": [
       "'510'"
      ]
     },
     "execution_count": 7,
     "metadata": {},
     "output_type": "execute_result"
    }
   ],
   "source": [
    "'5' + '10'"
   ]
  },
  {
   "cell_type": "markdown",
   "id": "b0481c79",
   "metadata": {},
   "source": [
    "Usually, such cases do not allow mixing variable types, and you will get an error:"
   ]
  },
  {
   "cell_type": "code",
   "execution_count": 8,
   "id": "9ea1525a",
   "metadata": {},
   "outputs": [
    {
     "ename": "TypeError",
     "evalue": "unsupported operand type(s) for +: 'int' and 'str'",
     "output_type": "error",
     "traceback": [
      "\u001B[1;31m---------------------------------------------------------------------------\u001B[0m",
      "\u001B[1;31mTypeError\u001B[0m                                 Traceback (most recent call last)",
      "Cell \u001B[1;32mIn[8], line 1\u001B[0m\n\u001B[1;32m----> 1\u001B[0m \u001B[38;5;241;43m5\u001B[39;49m\u001B[43m \u001B[49m\u001B[38;5;241;43m+\u001B[39;49m\u001B[43m \u001B[49m\u001B[38;5;124;43m'\u001B[39;49m\u001B[38;5;124;43m10\u001B[39;49m\u001B[38;5;124;43m'\u001B[39;49m\n",
      "\u001B[1;31mTypeError\u001B[0m: unsupported operand type(s) for +: 'int' and 'str'"
     ]
    }
   ],
   "source": [
    "5 + '10'  # raises TypeError"
   ]
  },
  {
   "cell_type": "markdown",
   "id": "232463da",
   "metadata": {},
   "source": [
    "However, in most cases, `int` and `float` objects can be freely mixed. Note that the final value often will be a `float`."
   ]
  },
  {
   "cell_type": "code",
   "execution_count": null,
   "id": "22ce4c33",
   "metadata": {},
   "outputs": [],
   "source": [
    "5 + 10.0"
   ]
  },
  {
   "cell_type": "markdown",
   "id": "9bd3365b",
   "metadata": {},
   "source": [
    "## Convert between variable types\n",
    "\n",
    "Python has functions which allow to obtain a copy of the value with a different type. These functions are named with same words as the types themselves (with the exception of the `None` value):"
   ]
  },
  {
   "cell_type": "code",
   "execution_count": 9,
   "id": "1fd1f876",
   "metadata": {},
   "outputs": [
    {
     "data": {
      "text/plain": [
       "5.0"
      ]
     },
     "execution_count": 9,
     "metadata": {},
     "output_type": "execute_result"
    }
   ],
   "source": [
    "float(5)"
   ]
  },
  {
   "cell_type": "code",
   "execution_count": 10,
   "id": "179fc9bb",
   "metadata": {},
   "outputs": [
    {
     "data": {
      "text/plain": [
       "'5'"
      ]
     },
     "execution_count": 10,
     "metadata": {},
     "output_type": "execute_result"
    }
   ],
   "source": [
    "str(5)"
   ]
  },
  {
   "cell_type": "code",
   "execution_count": 11,
   "id": "ae8fa9cf",
   "metadata": {},
   "outputs": [
    {
     "data": {
      "text/plain": [
       "5"
      ]
     },
     "execution_count": 11,
     "metadata": {},
     "output_type": "execute_result"
    }
   ],
   "source": [
    "int('5')"
   ]
  },
  {
   "cell_type": "code",
   "execution_count": 12,
   "id": "56a935c9",
   "metadata": {},
   "outputs": [
    {
     "data": {
      "text/plain": [
       "'True'"
      ]
     },
     "execution_count": 12,
     "metadata": {},
     "output_type": "execute_result"
    }
   ],
   "source": [
    "str(True)"
   ]
  },
  {
   "cell_type": "code",
   "execution_count": 13,
   "id": "0d52c736",
   "metadata": {},
   "outputs": [
    {
     "data": {
      "text/plain": [
       "1"
      ]
     },
     "execution_count": 13,
     "metadata": {},
     "output_type": "execute_result"
    }
   ],
   "source": [
    "int(True)  # the explanation is below"
   ]
  },
  {
   "cell_type": "markdown",
   "id": "110ba4e7",
   "metadata": {},
   "source": [
    "## Booleans and conditions"
   ]
  },
  {
   "cell_type": "markdown",
   "id": "b1b3359f",
   "metadata": {},
   "source": [
    "Notice that with `int()` and `float()` functions, `True` is converted `1` or `1.0`, and `False` is converted to `0` or `0.0`, respectively.\n",
    "\n",
    "**This is very important:** in Python, any non-zero number or non-empty string will be converted to `True`; while zeros, empty strings and `None` objects are `False`:"
   ]
  },
  {
   "cell_type": "code",
   "execution_count": 14,
   "id": "a65ac0f0",
   "metadata": {},
   "outputs": [
    {
     "data": {
      "text/plain": [
       "(True, True, True, True, True)"
      ]
     },
     "execution_count": 14,
     "metadata": {},
     "output_type": "execute_result"
    }
   ],
   "source": [
    "bool(5), bool(-5), bool(5.0), bool('5'), bool(True)"
   ]
  },
  {
   "cell_type": "code",
   "execution_count": 15,
   "id": "59e6402b",
   "metadata": {},
   "outputs": [
    {
     "data": {
      "text/plain": [
       "(False, False, False, False, False, False)"
      ]
     },
     "execution_count": 15,
     "metadata": {},
     "output_type": "execute_result"
    }
   ],
   "source": [
    "bool(0), bool(0.0), bool(''), bool(None), bool(False), bool()"
   ]
  },
  {
   "cell_type": "markdown",
   "id": "bafcb23b",
   "metadata": {},
   "source": [
    "This is the case in all Python conversions and calculations, and is used extensively in **conditionals**. \n",
    "\n",
    "Remember how to use `if`:"
   ]
  },
  {
   "cell_type": "code",
   "execution_count": 16,
   "id": "0dce1f1a",
   "metadata": {},
   "outputs": [
    {
     "name": "stdout",
     "output_type": "stream",
     "text": [
      "a is not a zero\n"
     ]
    }
   ],
   "source": [
    "a = 5\n",
    "if a != 0:\n",
    "    print('a is not a zero')\n",
    "else:\n",
    "    print('a is a zero!')"
   ]
  },
  {
   "cell_type": "markdown",
   "id": "ff2bf062",
   "metadata": {},
   "source": [
    "Now you can write the same thing, but shightly shorter:"
   ]
  },
  {
   "cell_type": "code",
   "execution_count": 17,
   "id": "1d7010fd",
   "metadata": {},
   "outputs": [
    {
     "name": "stdout",
     "output_type": "stream",
     "text": [
      "a is not a zero\n"
     ]
    }
   ],
   "source": [
    "a = 5\n",
    "if a:                            # <----- notice the simplification\n",
    "    print('a is not a zero')\n",
    "else:\n",
    "    print('a is a zero!')"
   ]
  },
  {
   "cell_type": "code",
   "execution_count": 18,
   "id": "85a010ae",
   "metadata": {},
   "outputs": [
    {
     "name": "stdout",
     "output_type": "stream",
     "text": [
      "a is a zero!\n"
     ]
    }
   ],
   "source": [
    "a = 0\n",
    "if a:\n",
    "    print('a is not a zero')\n",
    "else:\n",
    "    print('a is a zero!')"
   ]
  },
  {
   "cell_type": "markdown",
   "id": "562c7827",
   "metadata": {},
   "source": [
    "# Collections: lists"
   ]
  },
  {
   "cell_type": "markdown",
   "id": "81ac7b03",
   "metadata": {},
   "source": [
    "There are several collection types in Python.\n",
    "* A collection consists of several values stored together in a single object.\n",
    "\n",
    "The most simple and commonly used collection is `list`. Lists are created with square brackets:"
   ]
  },
  {
   "cell_type": "code",
   "execution_count": 19,
   "id": "5d57b29e",
   "metadata": {},
   "outputs": [
    {
     "data": {
      "text/plain": [
       "list"
      ]
     },
     "execution_count": 19,
     "metadata": {},
     "output_type": "execute_result"
    }
   ],
   "source": [
    "my_list = ['value', 'another_value']\n",
    "type(my_list)"
   ]
  },
  {
   "cell_type": "markdown",
   "id": "09192789",
   "metadata": {},
   "source": [
    "Lists can have objects of any type inside them, in any combination.\n",
    "\n",
    "To get the number of values in a list, use `len()`:"
   ]
  },
  {
   "cell_type": "code",
   "execution_count": 20,
   "id": "f295a9e3",
   "metadata": {},
   "outputs": [
    {
     "data": {
      "text/plain": [
       "6"
      ]
     },
     "execution_count": 20,
     "metadata": {},
     "output_type": "execute_result"
    }
   ],
   "source": [
    "# notice another list inside of my_list\n",
    "my_list = [1, 2.0, True, None, 'string', ['another', 'list']]\n",
    "len(my_list)  "
   ]
  },
  {
   "cell_type": "markdown",
   "id": "a9ea9443",
   "metadata": {},
   "source": [
    "The `len()` can also be used on `str` objects and will show the number of characters.\n",
    "\n",
    "* Actually, both `str` and `list` objects are **iterable**, meaning that they have values which can be counted. If an object has length, you can always use the `len()` function on it."
   ]
  },
  {
   "cell_type": "code",
   "execution_count": 21,
   "id": "25176e20",
   "metadata": {},
   "outputs": [
    {
     "data": {
      "text/plain": [
       "['h', 'e', 'l', 'l', 'o']"
      ]
     },
     "execution_count": 21,
     "metadata": {},
     "output_type": "execute_result"
    }
   ],
   "source": [
    "list_from_string = list('hello')\n",
    "list_from_string"
   ]
  },
  {
   "cell_type": "markdown",
   "id": "4fb1dbf0",
   "metadata": {},
   "source": [
    "## Indexing"
   ]
  },
  {
   "cell_type": "markdown",
   "id": "40f48b41",
   "metadata": {},
   "source": [
    "Each object in the list has its own index (starting from 0). This is because lists are **ordered**. The last index will always be the length of the list minus 1.\n",
    "\n",
    "Getting an object by its index is called **indexing** and is done with square brackets right after the list (or string):"
   ]
  },
  {
   "cell_type": "code",
   "execution_count": 22,
   "id": "a691261d",
   "metadata": {},
   "outputs": [
    {
     "data": {
      "text/plain": [
       "'a'"
      ]
     },
     "execution_count": 22,
     "metadata": {},
     "output_type": "execute_result"
    }
   ],
   "source": [
    "my_list = ['a', 'b', 'c', 'd', 'e', 'f']\n",
    "my_list[0]  # the 1st value"
   ]
  },
  {
   "cell_type": "code",
   "execution_count": 23,
   "id": "f5a39f44",
   "metadata": {},
   "outputs": [
    {
     "data": {
      "text/plain": [
       "'e'"
      ]
     },
     "execution_count": 23,
     "metadata": {},
     "output_type": "execute_result"
    }
   ],
   "source": [
    "my_list[4]  # the 5th value"
   ]
  },
  {
   "cell_type": "code",
   "execution_count": 24,
   "id": "0841ebf4",
   "metadata": {},
   "outputs": [
    {
     "data": {
      "text/plain": [
       "'h'"
      ]
     },
     "execution_count": 24,
     "metadata": {},
     "output_type": "execute_result"
    }
   ],
   "source": [
    "'hello'[0]  # you can operate with objects without assigning a name to them, but it's usually useless"
   ]
  },
  {
   "cell_type": "markdown",
   "id": "38ce7d69",
   "metadata": {},
   "source": [
    "Objects can be indexed from the end of the list, in this case, indices are from -1 and lower:"
   ]
  },
  {
   "cell_type": "code",
   "execution_count": 25,
   "id": "6f7ca5e7",
   "metadata": {},
   "outputs": [
    {
     "data": {
      "text/plain": [
       "'f'"
      ]
     },
     "execution_count": 25,
     "metadata": {},
     "output_type": "execute_result"
    }
   ],
   "source": [
    "my_list[-1]"
   ]
  },
  {
   "cell_type": "code",
   "execution_count": 26,
   "id": "87acf805",
   "metadata": {},
   "outputs": [
    {
     "data": {
      "text/plain": [
       "'e'"
      ]
     },
     "execution_count": 26,
     "metadata": {},
     "output_type": "execute_result"
    }
   ],
   "source": [
    "my_list[-2]"
   ]
  },
  {
   "cell_type": "markdown",
   "id": "d3b621cb",
   "metadata": {},
   "source": [
    "## Slicing"
   ]
  },
  {
   "cell_type": "markdown",
   "id": "86daf3a2",
   "metadata": {},
   "source": [
    "Several objects can be obtained by using **slicing**. Slicing has a specific syntax: `[start:end:step]`.\n",
    "* The value with the `end` index won't be included.\n",
    "* You don't need to provide all three values. By default:\n",
    "  * `start` is zero (the index for the first value);\n",
    "  * `end` is the length of the list;\n",
    "  * `step` equals `1` which takes each value without skipping any of them.\n",
    "\n",
    "To have a better grasp how it works, examine several examples:"
   ]
  },
  {
   "cell_type": "code",
   "execution_count": 27,
   "id": "580feabd",
   "metadata": {},
   "outputs": [
    {
     "name": "stdout",
     "output_type": "stream",
     "text": [
      "[0, 1, 2]\n"
     ]
    }
   ],
   "source": [
    "alist = [0, 1, 2, 3, 4, 5, 6, 7, 8, 9]\n",
    "print(alist[0:3])"
   ]
  },
  {
   "cell_type": "code",
   "execution_count": 28,
   "id": "a8e027d7",
   "metadata": {},
   "outputs": [
    {
     "name": "stdout",
     "output_type": "stream",
     "text": [
      "[0, 1, 2]\n"
     ]
    }
   ],
   "source": [
    "print(alist[:3])  # same as previous command"
   ]
  },
  {
   "cell_type": "code",
   "execution_count": 29,
   "id": "8a85355d",
   "metadata": {},
   "outputs": [
    {
     "name": "stdout",
     "output_type": "stream",
     "text": [
      "[2, 3, 4, 5]\n"
     ]
    }
   ],
   "source": [
    "print(alist[2:6])"
   ]
  },
  {
   "cell_type": "code",
   "execution_count": 30,
   "id": "cc34fa42",
   "metadata": {},
   "outputs": [
    {
     "name": "stdout",
     "output_type": "stream",
     "text": [
      "[2, 4]\n"
     ]
    }
   ],
   "source": [
    "print(alist[2:6:2])"
   ]
  },
  {
   "cell_type": "code",
   "execution_count": 31,
   "id": "5ef7338d",
   "metadata": {},
   "outputs": [
    {
     "name": "stdout",
     "output_type": "stream",
     "text": [
      "[7, 8]\n"
     ]
    }
   ],
   "source": [
    "print(alist[-3:-1])"
   ]
  },
  {
   "cell_type": "code",
   "execution_count": 32,
   "id": "8d66133d",
   "metadata": {},
   "outputs": [
    {
     "name": "stdout",
     "output_type": "stream",
     "text": [
      "[0, 1, 2, 3, 4, 5, 6, 7, 8, 9]\n"
     ]
    }
   ],
   "source": [
    "print(alist[:])  # return everything"
   ]
  },
  {
   "cell_type": "markdown",
   "id": "e878b27f",
   "metadata": {},
   "source": [
    "You can provide a negative `step` to inverse the list:"
   ]
  },
  {
   "cell_type": "code",
   "execution_count": 33,
   "id": "4e161384",
   "metadata": {},
   "outputs": [
    {
     "name": "stdout",
     "output_type": "stream",
     "text": [
      "[9, 8, 7, 6, 5, 4, 3, 2, 1, 0]\n",
      "[9, 8, 7, 6]\n"
     ]
    }
   ],
   "source": [
    "print(alist[::-1])\n",
    "print(alist[-1:-5:-1])"
   ]
  },
  {
   "cell_type": "markdown",
   "id": "347c09ee",
   "metadata": {},
   "source": [
    "In case of indexing, if you provide a non-existing index, you will get an error, but in case of slicing, you will get an empty list instead:"
   ]
  },
  {
   "cell_type": "code",
   "execution_count": 34,
   "id": "962c525b",
   "metadata": {},
   "outputs": [
    {
     "ename": "IndexError",
     "evalue": "list index out of range",
     "output_type": "error",
     "traceback": [
      "\u001B[1;31m---------------------------------------------------------------------------\u001B[0m",
      "\u001B[1;31mIndexError\u001B[0m                                Traceback (most recent call last)",
      "Cell \u001B[1;32mIn[34], line 1\u001B[0m\n\u001B[1;32m----> 1\u001B[0m \u001B[43malist\u001B[49m\u001B[43m[\u001B[49m\u001B[38;5;241;43m10\u001B[39;49m\u001B[43m]\u001B[49m\n",
      "\u001B[1;31mIndexError\u001B[0m: list index out of range"
     ]
    }
   ],
   "source": [
    "alist[10]  # raises IndexError"
   ]
  },
  {
   "cell_type": "code",
   "execution_count": 35,
   "id": "50b1074d",
   "metadata": {},
   "outputs": [
    {
     "data": {
      "text/plain": [
       "[]"
      ]
     },
     "execution_count": 35,
     "metadata": {},
     "output_type": "execute_result"
    }
   ],
   "source": [
    "alist[10:]"
   ]
  },
  {
   "cell_type": "markdown",
   "id": "f849262e",
   "metadata": {},
   "source": [
    "### Exercise: slicing\n",
    "\n",
    "Observe and run the code below. Write an additional row of code at the bottom of the same cell to print out each second value from the `fibonacci` list."
   ]
  },
  {
   "cell_type": "code",
   "execution_count": 1,
   "id": "685f54e7",
   "metadata": {
    "ExecuteTime": {
     "end_time": "2023-09-14T14:55:22.597474Z",
     "start_time": "2023-09-14T14:55:22.576764Z"
    }
   },
   "outputs": [
    {
     "data": {
      "text/plain": "[1, 2, 5, 13, 34]"
     },
     "execution_count": 1,
     "metadata": {},
     "output_type": "execute_result"
    }
   ],
   "source": [
    "fibonacci = [1, 1, 2, 3, 5, 8, 13, 21, 34, 55]\n",
    "fibonacci[::2]"
   ]
  },
  {
   "cell_type": "markdown",
   "id": "ac2ea725",
   "metadata": {},
   "source": [
    "## List operations\n",
    "\n",
    "`list` objects have several commonly used operations. See the examples with short explanations:"
   ]
  },
  {
   "cell_type": "code",
   "execution_count": 37,
   "id": "38a5a1e8",
   "metadata": {},
   "outputs": [
    {
     "name": "stdout",
     "output_type": "stream",
     "text": [
      "['hello', 'world']\n"
     ]
    }
   ],
   "source": [
    "x = []              # for the examples, first create an empty list\n",
    "x.append('hello')   # add the value\n",
    "x.append('world')   # add another value, always at the end of the list\n",
    "print(x)"
   ]
  },
  {
   "cell_type": "code",
   "execution_count": 38,
   "id": "719ace8b",
   "metadata": {},
   "outputs": [
    {
     "name": "stdout",
     "output_type": "stream",
     "text": [
      "['hello', 'world', ['hello', 'nested', 'list'], 'hello', 'extended', 'values']\n"
     ]
    }
   ],
   "source": [
    "# append a list to a list, which results in a list inside list (nested list).\n",
    "x.append(['hello', 'nested', 'list'])   \n",
    "\n",
    "# add all values from another list by using extend(). Can be used with any iterable.\n",
    "x.extend(['hello', 'extended', 'values'])      \n",
    "\n",
    "print(x)"
   ]
  },
  {
   "cell_type": "code",
   "execution_count": 39,
   "id": "c94d4279",
   "metadata": {},
   "outputs": [
    {
     "name": "stdout",
     "output_type": "stream",
     "text": [
      "['hello', 'world', ['hello', 'nested', 'list'], 'hello', 'extended', 2023]\n"
     ]
    }
   ],
   "source": [
    "x[-1] = 2023   # change the last value to 2023\n",
    "print(x)"
   ]
  },
  {
   "cell_type": "code",
   "execution_count": 40,
   "id": "e4efebd0",
   "metadata": {},
   "outputs": [
    {
     "data": {
      "text/plain": [
       "2"
      ]
     },
     "execution_count": 40,
     "metadata": {},
     "output_type": "execute_result"
    }
   ],
   "source": [
    "# count \"hello\" values in list (nested lists are not looked into!). Count() can also be used on strings \n",
    "x.count('hello')                  "
   ]
  },
  {
   "cell_type": "code",
   "execution_count": 41,
   "id": "db010c9c",
   "metadata": {},
   "outputs": [
    {
     "name": "stdout",
     "output_type": "stream",
     "text": [
      "['world', ['hello', 'nested', 'list'], 'hello', 'extended', 2023]\n"
     ]
    }
   ],
   "source": [
    "x.remove('hello')     # will only remove the first \"hello\" object!\n",
    "print(x)"
   ]
  },
  {
   "cell_type": "code",
   "execution_count": 42,
   "id": "8ea64009",
   "metadata": {},
   "outputs": [
    {
     "name": "stdout",
     "output_type": "stream",
     "text": [
      "['world', 'hello', ['hello', 'nested', 'list'], 'hello', 'extended', 2023]\n"
     ]
    }
   ],
   "source": [
    "x.insert(1, 'hello')  # insert \"hello\" into the 2nd position which is after the \"world\" value\n",
    "print(x)"
   ]
  },
  {
   "cell_type": "code",
   "execution_count": 43,
   "id": "9cbd1ff2",
   "metadata": {},
   "outputs": [
    {
     "name": "stdout",
     "output_type": "stream",
     "text": [
      "['world', 'hello', 'hello', 'extended', 2023]\n"
     ]
    }
   ],
   "source": [
    "x.pop(2)  # remove 3rd object from the list\n",
    "print(x)"
   ]
  },
  {
   "cell_type": "code",
   "execution_count": 44,
   "id": "f136eb0f",
   "metadata": {},
   "outputs": [
    {
     "name": "stdout",
     "output_type": "stream",
     "text": [
      "[]\n"
     ]
    }
   ],
   "source": [
    "x.clear()  # clear everything from the list\n",
    "print(x)"
   ]
  },
  {
   "cell_type": "markdown",
   "id": "4a3c9b99",
   "metadata": {},
   "source": [
    "## Mutable vs. Immutable"
   ]
  },
  {
   "cell_type": "markdown",
   "id": "689eddb1",
   "metadata": {},
   "source": [
    "In the examples above, there were many modifications done to the list `x`. This is because lists are **mutable**. Some other Python objects are **immutable**. For example, strings are immutable:"
   ]
  },
  {
   "cell_type": "code",
   "execution_count": 45,
   "id": "7cd11870",
   "metadata": {},
   "outputs": [
    {
     "ename": "TypeError",
     "evalue": "'str' object does not support item assignment",
     "output_type": "error",
     "traceback": [
      "\u001B[1;31m---------------------------------------------------------------------------\u001B[0m",
      "\u001B[1;31mTypeError\u001B[0m                                 Traceback (most recent call last)",
      "Cell \u001B[1;32mIn[45], line 2\u001B[0m\n\u001B[0;32m      1\u001B[0m my_string \u001B[38;5;241m=\u001B[39m \u001B[38;5;124m'\u001B[39m\u001B[38;5;124mhello\u001B[39m\u001B[38;5;124m'\u001B[39m\n\u001B[1;32m----> 2\u001B[0m my_string[\u001B[38;5;241m0\u001B[39m] \u001B[38;5;241m=\u001B[39m \u001B[38;5;124m'\u001B[39m\u001B[38;5;124mj\u001B[39m\u001B[38;5;124m'\u001B[39m\n",
      "\u001B[1;31mTypeError\u001B[0m: 'str' object does not support item assignment"
     ]
    }
   ],
   "source": [
    "my_string = 'hello'\n",
    "my_string[0] = 'j'  # raises TypeError"
   ]
  },
  {
   "cell_type": "markdown",
   "id": "9735062c",
   "metadata": {},
   "source": [
    "This is an important concept to grasp. In scientific coding, immutable objects are reliable as they will stay same during the whole code. Lists are less reliable because their change can be unnoticed by a less experienced programmer.\n",
    "\n",
    "There is another important detail about lists which arises from their mutability: "
   ]
  },
  {
   "cell_type": "code",
   "execution_count": 46,
   "id": "8b856dce",
   "metadata": {},
   "outputs": [
    {
     "name": "stdout",
     "output_type": "stream",
     "text": [
      "[1, 2, 3, 4, 5, 6]\n"
     ]
    }
   ],
   "source": [
    "a = [1, 2, 3, 4, 5]\n",
    "b = a                 # this DOES NOT create a copy of a!\n",
    "a.append(6)           # a new value is added to the list, modifying it in-place\n",
    "print(b)              # both a and b variables lead to the same list!"
   ]
  },
  {
   "cell_type": "markdown",
   "id": "dc9fcfd2",
   "metadata": {},
   "source": [
    "This is where slicing is helpful as it always returns a **copy**:"
   ]
  },
  {
   "cell_type": "code",
   "execution_count": 47,
   "id": "fd9b160f",
   "metadata": {},
   "outputs": [
    {
     "name": "stdout",
     "output_type": "stream",
     "text": [
      "[1, 2, 3, 4, 5]\n"
     ]
    }
   ],
   "source": [
    "a = [1, 2, 3, 4, 5]\n",
    "b = a[:]              # now b is created by copying all values from a\n",
    "a.append(6)       \n",
    "print(b)              # b variable is unchanged"
   ]
  },
  {
   "cell_type": "markdown",
   "id": "f40d0384",
   "metadata": {},
   "source": [
    "So, it is crucial to discriminate between operations which return a copy of a mutable object, and which operate with them **in-place**.\n",
    "* `.append()`, `.extend()`, `.insert()`, `.remove()`, `.clear()` are in-place operations. They return nothing (`None`)!"
   ]
  },
  {
   "cell_type": "code",
   "execution_count": 48,
   "id": "4e4ec154",
   "metadata": {},
   "outputs": [
    {
     "name": "stdout",
     "output_type": "stream",
     "text": [
      "None\n"
     ]
    }
   ],
   "source": [
    "a = [1, 2, 3, 4, 5]\n",
    "returned_value = my_list.append(6)\n",
    "print(returned_value)"
   ]
  },
  {
   "cell_type": "markdown",
   "id": "3552644c",
   "metadata": {},
   "source": [
    "### Exercise: in-place operations\n",
    "\n",
    "What is wrong with this code, so its output is pointless? How to make it meaningful?"
   ]
  },
  {
   "cell_type": "code",
   "execution_count": 3,
   "id": "7e4d11e3",
   "metadata": {
    "ExecuteTime": {
     "end_time": "2023-09-14T14:58:35.050117Z",
     "start_time": "2023-09-14T14:58:35.037499Z"
    }
   },
   "outputs": [
    {
     "name": "stdout",
     "output_type": "stream",
     "text": [
      "[1, 8, 27, 64, 125, 216]\n"
     ]
    }
   ],
   "source": [
    "cubes = [1**3, 2**3, 3**3, 4**3]\n",
    "cubes.extend([5**3, 6**3])\n",
    "print(cubes)"
   ]
  },
  {
   "cell_type": "markdown",
   "id": "64c8edb1",
   "metadata": {},
   "source": [
    "## Comparison and the `is` operator"
   ]
  },
  {
   "cell_type": "markdown",
   "id": "34cbb4bb",
   "metadata": {},
   "source": [
    "It is easy to compare values. Operators for the mathematical comparison were listed in the Week 1 slides."
   ]
  },
  {
   "cell_type": "code",
   "execution_count": 50,
   "id": "b45c3dd9",
   "metadata": {},
   "outputs": [
    {
     "data": {
      "text/plain": [
       "True"
      ]
     },
     "execution_count": 50,
     "metadata": {},
     "output_type": "execute_result"
    }
   ],
   "source": [
    "a, b = 3, 5\n",
    "a < b"
   ]
  },
  {
   "cell_type": "markdown",
   "id": "6692395e",
   "metadata": {},
   "source": [
    "Lists can be compared to see if their values are same and in the same order:"
   ]
  },
  {
   "cell_type": "code",
   "execution_count": 51,
   "id": "c8679c7e",
   "metadata": {},
   "outputs": [
    {
     "data": {
      "text/plain": [
       "False"
      ]
     },
     "execution_count": 51,
     "metadata": {},
     "output_type": "execute_result"
    }
   ],
   "source": [
    "a = [1, 2, 3]\n",
    "b = [1, 3, 2]\n",
    "a == b"
   ]
  },
  {
   "cell_type": "code",
   "execution_count": 52,
   "id": "89bfdc13",
   "metadata": {},
   "outputs": [
    {
     "data": {
      "text/plain": [
       "True"
      ]
     },
     "execution_count": 52,
     "metadata": {},
     "output_type": "execute_result"
    }
   ],
   "source": [
    "a = [1, 2, 3]\n",
    "b = [1, 2, 3]\n",
    "a == b"
   ]
  },
  {
   "cell_type": "markdown",
   "id": "46ea2a7e",
   "metadata": {},
   "source": [
    "In the above example, `a` and `b` lists are two different objects created independently. Each can be modified without affecting the other. How to differentiate such case from the previously shown `a = b` case where it would be the same objects? Use the `is` operator:"
   ]
  },
  {
   "cell_type": "code",
   "execution_count": 53,
   "id": "14d87ccb",
   "metadata": {},
   "outputs": [
    {
     "data": {
      "text/plain": [
       "False"
      ]
     },
     "execution_count": 53,
     "metadata": {},
     "output_type": "execute_result"
    }
   ],
   "source": [
    "a is b"
   ]
  },
  {
   "cell_type": "markdown",
   "id": "12867c82",
   "metadata": {},
   "source": [
    "## Sorting lists\n",
    "\n",
    "List sorting only works if there are only strings or only numbers inside. This is because during sorting, values are compared with each other using the `<` operator which is not supported between `str` and numerical types.\n",
    "\n",
    "Python sorting functions return numbers from smallest to largest, and strings sorted alphabetically. The main function is `sorted()` which returns a new object:"
   ]
  },
  {
   "cell_type": "code",
   "execution_count": 54,
   "id": "ef5c45a7",
   "metadata": {},
   "outputs": [
    {
     "name": "stdout",
     "output_type": "stream",
     "text": [
      "b: [2, 3, 4]\n",
      "a: [3, 2, 4]\n"
     ]
    }
   ],
   "source": [
    "a = [3, 2, 4]\n",
    "b = sorted(a)\n",
    "print('b:', b)\n",
    "print('a:', a)"
   ]
  },
  {
   "cell_type": "markdown",
   "id": "1fa79411",
   "metadata": {},
   "source": [
    "There is also a function for in-place sorting: `.sort()`."
   ]
  },
  {
   "cell_type": "code",
   "execution_count": 55,
   "id": "60f15b08",
   "metadata": {},
   "outputs": [
    {
     "name": "stdout",
     "output_type": "stream",
     "text": [
      "[2, 3, 4]\n"
     ]
    }
   ],
   "source": [
    "a = [3, 2, 4]\n",
    "a.sort()\n",
    "print(a)"
   ]
  },
  {
   "cell_type": "markdown",
   "id": "883cc64f",
   "metadata": {},
   "source": [
    "# What to do if you forgot what a command does and don't have internet connection?\n",
    "Python has the `help()` function which can be used to get some information on Python **in-built** functions, as well as most functions from imported packages:"
   ]
  },
  {
   "cell_type": "code",
   "execution_count": 56,
   "id": "2aec81d7",
   "metadata": {},
   "outputs": [
    {
     "name": "stdout",
     "output_type": "stream",
     "text": [
      "Help on built-in function len in module builtins:\n",
      "\n",
      "len(obj, /)\n",
      "    Return the number of items in a container.\n"
     ]
    }
   ],
   "source": [
    "help(len)"
   ]
  },
  {
   "cell_type": "code",
   "execution_count": 57,
   "id": "45281f52",
   "metadata": {},
   "outputs": [
    {
     "name": "stdout",
     "output_type": "stream",
     "text": [
      "Help on built-in function append:\n",
      "\n",
      "append(object, /) method of builtins.list instance\n",
      "    Append object to the end of the list.\n"
     ]
    }
   ],
   "source": [
    "help([].append)"
   ]
  },
  {
   "cell_type": "markdown",
   "id": "dfc4d6a2",
   "metadata": {},
   "source": [
    "# Other collection types"
   ]
  },
  {
   "cell_type": "markdown",
   "id": "5717222b",
   "metadata": {},
   "source": [
    "There are three more collection types:\n",
    "\n",
    "### Tuples\n",
    "`tuple` objects are similar to lists, but are created with round brackets (`()`) instead, and are **non-mutable**. That means, you can change objects in lists (e.g. by using indexing to assign new values), but you cannot do the same with tuples:"
   ]
  },
  {
   "cell_type": "code",
   "execution_count": 58,
   "id": "a927fe99",
   "metadata": {},
   "outputs": [
    {
     "name": "stdout",
     "output_type": "stream",
     "text": [
      "[3, 100, 5]\n"
     ]
    },
    {
     "ename": "TypeError",
     "evalue": "'tuple' object does not support item assignment",
     "output_type": "error",
     "traceback": [
      "\u001B[1;31m---------------------------------------------------------------------------\u001B[0m",
      "\u001B[1;31mTypeError\u001B[0m                                 Traceback (most recent call last)",
      "Cell \u001B[1;32mIn[58], line 6\u001B[0m\n\u001B[0;32m      3\u001B[0m \u001B[38;5;28mprint\u001B[39m(my_list)\n\u001B[0;32m      5\u001B[0m my_tuple \u001B[38;5;241m=\u001B[39m (\u001B[38;5;241m3\u001B[39m, \u001B[38;5;241m4\u001B[39m, \u001B[38;5;241m5\u001B[39m)\n\u001B[1;32m----> 6\u001B[0m my_tuple[\u001B[38;5;241m1\u001B[39m] \u001B[38;5;241m=\u001B[39m \u001B[38;5;241m100\u001B[39m\n",
      "\u001B[1;31mTypeError\u001B[0m: 'tuple' object does not support item assignment"
     ]
    }
   ],
   "source": [
    "my_list = [3, 4, 5]\n",
    "my_list[1] = 100\n",
    "print(my_list)\n",
    "\n",
    "my_tuple = (3, 4, 5)\n",
    "my_tuple[1] = 100  # raises TypeError"
   ]
  },
  {
   "cell_type": "markdown",
   "id": "2f1cf06f",
   "metadata": {},
   "source": [
    "It also means that all functions which change lists in-place won't work on tuples, such as `.append()`, `.extend()`, `.remove()`, `.insert()`, `.sort()`, etc. However, most other functions will work, e.g. `len()`, `.count()`.\n",
    "\n",
    "Indexing, slicing, and sorting work the same for lists and tuples."
   ]
  },
  {
   "cell_type": "markdown",
   "id": "b967cb5b",
   "metadata": {},
   "source": [
    "### Sets\n",
    "\n",
    "`set` objects are quite different collections which are created with curly brackets (`{}`). First of all, they can only contain unique values:"
   ]
  },
  {
   "cell_type": "code",
   "execution_count": 59,
   "id": "4620e45f",
   "metadata": {},
   "outputs": [
    {
     "data": {
      "text/plain": [
       "{1, 2, 3, 4}"
      ]
     },
     "execution_count": 59,
     "metadata": {},
     "output_type": "execute_result"
    }
   ],
   "source": [
    "my_set = {1, 2, 3, 4, 4}\n",
    "my_set                     # one of fours disappeared"
   ]
  },
  {
   "cell_type": "markdown",
   "id": "07fa48e6",
   "metadata": {},
   "source": [
    "`set` objects are also unordered, meaning they cannot be indexed or sliced:"
   ]
  },
  {
   "cell_type": "code",
   "execution_count": 60,
   "id": "d2cf5246",
   "metadata": {},
   "outputs": [
    {
     "ename": "TypeError",
     "evalue": "'set' object is not subscriptable",
     "output_type": "error",
     "traceback": [
      "\u001B[1;31m---------------------------------------------------------------------------\u001B[0m",
      "\u001B[1;31mTypeError\u001B[0m                                 Traceback (most recent call last)",
      "Cell \u001B[1;32mIn[60], line 1\u001B[0m\n\u001B[1;32m----> 1\u001B[0m \u001B[43mmy_set\u001B[49m\u001B[43m[\u001B[49m\u001B[38;5;241;43m1\u001B[39;49m\u001B[43m]\u001B[49m\n",
      "\u001B[1;31mTypeError\u001B[0m: 'set' object is not subscriptable"
     ]
    }
   ],
   "source": [
    "my_set[1]  # raises TypeError"
   ]
  },
  {
   "cell_type": "markdown",
   "id": "92b36ff5",
   "metadata": {},
   "source": [
    "`set` are mutable and have  functions to add or remove values:"
   ]
  },
  {
   "cell_type": "code",
   "execution_count": 61,
   "id": "f0c4b3fa",
   "metadata": {},
   "outputs": [
    {
     "name": "stdout",
     "output_type": "stream",
     "text": [
      "{0, 1, 2, 3, 4}\n",
      "{0, 1, 3, 4}\n"
     ]
    }
   ],
   "source": [
    "my_set.add(0)       # add a new value which is zero\n",
    "print(my_set)\n",
    "\n",
    "my_set.remove(2)    # remove the value 2\n",
    "print(my_set)"
   ]
  },
  {
   "cell_type": "markdown",
   "id": "aa056e44",
   "metadata": {},
   "source": [
    "The `frozenset()` object is a type of set which is immutable."
   ]
  },
  {
   "cell_type": "markdown",
   "id": "52c26535",
   "metadata": {},
   "source": [
    "# Other operations with collections\n",
    "\n",
    "Lists and tuples can be concatenated with `+`. Sets have additional operations (called set operations) which we will discuss later."
   ]
  },
  {
   "cell_type": "code",
   "execution_count": 62,
   "id": "d860f48d",
   "metadata": {},
   "outputs": [
    {
     "data": {
      "text/plain": [
       "[1, 2, 3, 1, 2]"
      ]
     },
     "execution_count": 62,
     "metadata": {},
     "output_type": "execute_result"
    }
   ],
   "source": [
    "[1, 2, 3] + [1, 2]"
   ]
  },
  {
   "cell_type": "code",
   "execution_count": 63,
   "id": "334e5ae2",
   "metadata": {},
   "outputs": [
    {
     "data": {
      "text/plain": [
       "(1, 2, 3, 1, 2)"
      ]
     },
     "execution_count": 63,
     "metadata": {},
     "output_type": "execute_result"
    }
   ],
   "source": [
    "(1, 2, 3) + (1, 2)"
   ]
  },
  {
   "cell_type": "markdown",
   "id": "05e204d3",
   "metadata": {},
   "source": [
    "For more examples of list, tuple, and set functions, see the Week 2 slides."
   ]
  },
  {
   "cell_type": "markdown",
   "id": "b6d2b3a9",
   "metadata": {},
   "source": [
    "# Dictionaries\n",
    "\n",
    "Dictionaries, or `dict` objects, consist of **key** and **value** pairs. You can search the value by using the key. This is similar to indexing:"
   ]
  },
  {
   "cell_type": "code",
   "execution_count": 64,
   "id": "7a212b1d",
   "metadata": {},
   "outputs": [
    {
     "data": {
      "text/plain": [
       "'labas'"
      ]
     },
     "execution_count": 64,
     "metadata": {},
     "output_type": "execute_result"
    }
   ],
   "source": [
    "my_dict = {'hello': 'labas', 'world': 'pasaulis'}\n",
    "my_dict['hello']"
   ]
  },
  {
   "cell_type": "markdown",
   "id": "444e355c",
   "metadata": {},
   "source": [
    "So, dictionaries also use curly brackets. They are similar to sets because dictionary keys are also unique, and dictionaries are also unsorted. Values, on the other way, can have duplicates.\n",
    "\n",
    "Dictionaries are mutable:"
   ]
  },
  {
   "cell_type": "code",
   "execution_count": 65,
   "id": "83076ab1",
   "metadata": {},
   "outputs": [
    {
     "data": {
      "text/plain": [
       "{'hello': 'sveiki', 'world': 'pasaulis', 'bird': 'paukštis'}"
      ]
     },
     "execution_count": 65,
     "metadata": {},
     "output_type": "execute_result"
    }
   ],
   "source": [
    "my_dict['bird'] = 'paukštis'  # adding a new key-value pair\n",
    "my_dict['hello'] = 'sveiki'   # changing an already existing key-value pair\n",
    "my_dict"
   ]
  },
  {
   "cell_type": "markdown",
   "id": "ba2465f7",
   "metadata": {},
   "source": [
    "Only immutable objects can be dictionary keys: `int`, `float`, `str`, `bool`, and `tuple` objects.\n",
    "\n",
    "Values can be any objects, mutable as well: lists, other dictionaries, even functions. See an example with three in-built functions:"
   ]
  },
  {
   "cell_type": "code",
   "execution_count": 66,
   "id": "0a1032b1",
   "metadata": {},
   "outputs": [
    {
     "data": {
      "text/plain": [
       "5"
      ]
     },
     "execution_count": 66,
     "metadata": {},
     "output_type": "execute_result"
    }
   ],
   "source": [
    "dict_with_functions = {\n",
    "    'min': min,\n",
    "    'max': max,\n",
    "    'sum': sum\n",
    "}\n",
    "\n",
    "a = [1, 2, 3, 4, 5]\n",
    "dict_with_functions['max'](a)"
   ]
  },
  {
   "cell_type": "markdown",
   "id": "2961edbc",
   "metadata": {},
   "source": [
    "There is an alternative way to get values by keys from a dictionary. The one shown above will raise a special error if the key is not present in the dictionary:"
   ]
  },
  {
   "cell_type": "code",
   "execution_count": 67,
   "id": "8c5d5b85",
   "metadata": {},
   "outputs": [
    {
     "ename": "KeyError",
     "evalue": "'unknown'",
     "output_type": "error",
     "traceback": [
      "\u001B[1;31m---------------------------------------------------------------------------\u001B[0m",
      "\u001B[1;31mKeyError\u001B[0m                                  Traceback (most recent call last)",
      "Cell \u001B[1;32mIn[67], line 1\u001B[0m\n\u001B[1;32m----> 1\u001B[0m \u001B[43mmy_dict\u001B[49m\u001B[43m[\u001B[49m\u001B[38;5;124;43m'\u001B[39;49m\u001B[38;5;124;43munknown\u001B[39;49m\u001B[38;5;124;43m'\u001B[39;49m\u001B[43m]\u001B[49m\n",
      "\u001B[1;31mKeyError\u001B[0m: 'unknown'"
     ]
    }
   ],
   "source": [
    "my_dict['unknown']   # raises a KeyError"
   ]
  },
  {
   "cell_type": "markdown",
   "id": "17bd8ff5",
   "metadata": {},
   "source": [
    "If it is important for your program to keep going, use `.get()` instead, which will return `None` in case the key is not found:"
   ]
  },
  {
   "cell_type": "code",
   "execution_count": 68,
   "id": "68eecd24",
   "metadata": {},
   "outputs": [
    {
     "name": "stdout",
     "output_type": "stream",
     "text": [
      "None\n"
     ]
    }
   ],
   "source": [
    "print(my_dict.get('unknown'))"
   ]
  },
  {
   "cell_type": "markdown",
   "id": "8d71422f",
   "metadata": {},
   "source": [
    "You can also change this default `None` value to something else by providing a second parameter to `.get()`:"
   ]
  },
  {
   "cell_type": "code",
   "execution_count": 69,
   "id": "fc76e26a",
   "metadata": {},
   "outputs": [
    {
     "name": "stdout",
     "output_type": "stream",
     "text": [
      "default value\n"
     ]
    }
   ],
   "source": [
    "print(my_dict.get('unknown', 'default value'))"
   ]
  },
  {
   "cell_type": "markdown",
   "id": "fd722f0bc56a9cb8",
   "metadata": {},
   "source": [
    "# Exercises 1 (not graded)\n",
    "\n",
    "Try to answer these questions by writing commands and printing out answers:\n",
    "\n",
    "1. How old are you? (substract your birth year from the current year)"
   ]
  },
  {
   "cell_type": "code",
   "execution_count": 11,
   "outputs": [
    {
     "name": "stdout",
     "output_type": "stream",
     "text": [
      "This year, I will be 24 years old!\n"
     ]
    }
   ],
   "source": [
    "import datetime\n",
    "\n",
    "age = datetime.date.today().year - 1999\n",
    "print(f\"This year, I will be {age} years old!\")"
   ],
   "metadata": {
    "collapsed": false,
    "ExecuteTime": {
     "end_time": "2023-09-14T15:08:30.086637Z",
     "start_time": "2023-09-14T15:08:30.064542Z"
    }
   },
   "id": "59d07636b9dd2e0e"
  },
  {
   "cell_type": "markdown",
   "source": [
    "2. How many digits there are in the current year?"
   ],
   "metadata": {
    "collapsed": false
   },
   "id": "1a916349250a20ac"
  },
  {
   "cell_type": "code",
   "execution_count": 12,
   "outputs": [
    {
     "name": "stdout",
     "output_type": "stream",
     "text": [
      "There are 4 digits in the year 2023!\n"
     ]
    }
   ],
   "source": [
    "year = str(datetime.date.today().year)\n",
    "print(f\"There are {len(year)} digits in the year {year}!\")"
   ],
   "metadata": {
    "collapsed": false,
    "ExecuteTime": {
     "end_time": "2023-09-14T15:08:32.204591Z",
     "start_time": "2023-09-14T15:08:32.177329Z"
    }
   },
   "id": "6a4791823169b04e"
  },
  {
   "cell_type": "markdown",
   "source": [
    "3. What are the values from 5th to 10th position in this list (copy-paste it into cell): `[6, 2, 9, 4, 6, 3, 2, 8, 5, 0, 7, 4, 2]`"
   ],
   "metadata": {
    "collapsed": false
   },
   "id": "964bfdd676f08df7"
  },
  {
   "cell_type": "code",
   "execution_count": 14,
   "outputs": [
    {
     "data": {
      "text/plain": "[6, 3, 2, 8, 5, 0]"
     },
     "execution_count": 14,
     "metadata": {},
     "output_type": "execute_result"
    }
   ],
   "source": [
    "values = [6, 2, 9, 4, 6, 3, 2, 8, 5, 0, 7, 4, 2]\n",
    "values[4:10]"
   ],
   "metadata": {
    "collapsed": false,
    "ExecuteTime": {
     "end_time": "2023-09-14T15:09:28.178378Z",
     "start_time": "2023-09-14T15:09:28.163272Z"
    }
   },
   "id": "de9a59fa2e43a556"
  },
  {
   "cell_type": "markdown",
   "source": [
    "4. In the same list, what is the sum of all values in positions with odd indices (use slicing and the `sum(x)` function)?"
   ],
   "metadata": {
    "collapsed": false
   },
   "id": "a77b7133a45d4f21"
  },
  {
   "cell_type": "code",
   "execution_count": 16,
   "outputs": [
    {
     "data": {
      "text/plain": "37"
     },
     "execution_count": 16,
     "metadata": {},
     "output_type": "execute_result"
    }
   ],
   "source": [
    "sum(values[::2])"
   ],
   "metadata": {
    "collapsed": false,
    "ExecuteTime": {
     "end_time": "2023-09-14T15:10:12.404118Z",
     "start_time": "2023-09-14T15:10:12.380958Z"
    }
   },
   "id": "b6fbe27c4cac7687"
  },
  {
   "cell_type": "markdown",
   "source": [
    "5. How would you convert this tuple: `('one', 'two', 'three')` to this one: `('one', 'two', 'hello', 'tree')`? Think of at least 3 different ways to do it."
   ],
   "metadata": {
    "collapsed": false
   },
   "id": "b87ce9ac"
  },
  {
   "cell_type": "code",
   "execution_count": 37,
   "id": "18cd665a",
   "metadata": {
    "ExecuteTime": {
     "end_time": "2023-09-14T15:18:08.549513Z",
     "start_time": "2023-09-14T15:18:08.527844Z"
    }
   },
   "outputs": [
    {
     "name": "stdout",
     "output_type": "stream",
     "text": [
      "('one', 'two', 'hello', 'three')\n",
      "('one', 'two', 'hello', 'three')\n",
      "('one', 'two', 'hello', 'three')\n"
     ]
    }
   ],
   "source": [
    "t = ('one', 'two', 'three')\n",
    "\n",
    "# Method 1\n",
    "tuple_list = list(t)\n",
    "tuple_list.insert(2, 'hello')\n",
    "print(tuple(tuple_list))\n",
    "\n",
    "# Method 2\n",
    "tuple_list = list(t[0:2])\n",
    "tuple_list.append('hello')\n",
    "tuple_list.append(t[2])\n",
    "print(tuple(tuple_list))\n",
    "\n",
    "# Method 3\n",
    "print(tuple([t[0], t[1], 'hello', t[2]]))"
   ]
  }
 ],
 "metadata": {
  "kernelspec": {
   "display_name": "Python 3 (ipykernel)",
   "language": "python",
   "name": "python3"
  },
  "language_info": {
   "codemirror_mode": {
    "name": "ipython",
    "version": 3
   },
   "file_extension": ".py",
   "mimetype": "text/x-python",
   "name": "python",
   "nbconvert_exporter": "python",
   "pygments_lexer": "ipython3",
   "version": "3.10.9"
  }
 },
 "nbformat": 4,
 "nbformat_minor": 5
}
