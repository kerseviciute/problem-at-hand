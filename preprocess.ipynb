{
 "cells": [
  {
   "cell_type": "code",
   "execution_count": 1,
   "id": "391f06a8f41e25f0",
   "metadata": {
    "ExecuteTime": {
     "end_time": "2023-11-18T14:14:44.041223Z",
     "start_time": "2023-11-18T14:14:43.632568Z"
    },
    "collapsed": false,
    "editable": true,
    "slideshow": {
     "slide_type": ""
    },
    "tags": [
     "hide_code"
    ]
   },
   "outputs": [],
   "source": [
    "import json\n",
    "from scipy.io import loadmat\n",
    "from IPython.display import Markdown as md\n",
    "import yaml\n",
    "import numpy as np\n",
    "from scipy import signal\n",
    "from matplotlib import pyplot as plt\n",
    "from datetime import datetime\n",
    "from sklearn.decomposition import FastICA\n",
    "\n",
    "# Get the snakemake object\n",
    "with open('.preprocess.ipynb_snakemake.json', 'r') as json_file:\n",
    "    snakemake = json.load(json_file)\n",
    "\n",
    "# Read config file\n",
    "with open('config.yml', 'r') as yaml_file:\n",
    "    config = yaml.safe_load(yaml_file)"
   ]
  },
  {
   "cell_type": "code",
   "execution_count": null,
   "id": "ee6980139b523457",
   "metadata": {
    "collapsed": false,
    "editable": true,
    "slideshow": {
     "slide_type": ""
    },
    "tags": [
     "hide_code"
    ]
   },
   "outputs": [],
   "source": [
    "def plot_periodogram(data, sample_rate, log = True, save = False, filename = ''):\n",
    "    for channel in range(data.shape[ 1 ]):\n",
    "        f, x = signal.welch(data[ :, channel ], fs = sample_rate)\n",
    "        x = np.log(x) if log else x\n",
    "\n",
    "        plt.plot(f, x, linewidth = 0.75)\n",
    "\n",
    "    plt.xlabel('Frequency (Hz)')\n",
    "    plt.ylabel('Relative power, log')\n",
    "\n",
    "    if save:\n",
    "        plt.savefig(filename)\n",
    "    else:\n",
    "        plt.show()\n",
    "\n",
    "\n",
    "def apply_filter(data, filter):\n",
    "    filtered_channels = [ ]\n",
    "    for channel_i in range(data.shape[ 1 ]):\n",
    "        to_filter = data[ :, channel_i ]\n",
    "        filtered = signal.sosfiltfilt(filter, to_filter)\n",
    "        filtered_channels.append(filtered)\n",
    "\n",
    "    return np.array(filtered_channels).transpose()\n",
    "\n",
    "\n",
    "def remove_powerline(data, frequencies, sample_rate, range = 1):\n",
    "    for frequency in frequencies:\n",
    "        print(f'Removing frequency {frequency}')\n",
    "        filter = signal.butter(\n",
    "            N = 20,\n",
    "            Wn = [ frequency - range, frequency + range ],\n",
    "            btype = 'bandstop',\n",
    "            output = 'sos',\n",
    "            fs = sample_rate\n",
    "        )\n",
    "\n",
    "        data = apply_filter(data, filter)\n",
    "\n",
    "    return data\n",
    "\n",
    "\n",
    "def low_pass(data, frequency, sample_rate):\n",
    "    print(f'Passing frequencies lower than {frequency}')\n",
    "\n",
    "    filter = signal.butter(\n",
    "        N = 20,\n",
    "        Wn = frequency,\n",
    "        btype = 'low',\n",
    "        output = 'sos',\n",
    "        fs = sample_rate\n",
    "    )\n",
    "\n",
    "    return apply_filter(data, filter)\n",
    "\n",
    "\n",
    "def high_pass(data, frequency, sample_rate):\n",
    "    print(f'Passing frequencies higher than {frequency}')\n",
    "\n",
    "    filter = signal.butter(\n",
    "        N = 20,\n",
    "        Wn = frequency,\n",
    "        btype = 'high',\n",
    "        output = 'sos',\n",
    "        fs = sample_rate\n",
    "    )\n",
    "\n",
    "    return apply_filter(data, filter)\n",
    "\n",
    "def plot_periodograms(datasets, labels, sample_rate, log = True, save = False, filename = ''):\n",
    "    colors = plt.rcParams[ 'axes.prop_cycle' ].by_key()[ 'color' ][ 0:len(datasets) ]\n",
    "\n",
    "    for dataset, label, color in zip(datasets, labels, colors):\n",
    "        has_label = False\n",
    "        for channel in range(dataset.shape[ 1 ]):\n",
    "            f, x = signal.welch(dataset[ :, channel ], fs = sample_rate)\n",
    "            x = np.log(x) if log else x\n",
    "\n",
    "            if has_label:\n",
    "                plt.plot(f, x, linewidth = 0.75, color = color)\n",
    "            else:\n",
    "                plt.plot(f, x, linewidth = 0.75, color = color, label = label)\n",
    "                has_label = True\n",
    "\n",
    "    plt.xlabel('Frequency (Hz)')\n",
    "    plt.ylabel('Relative power, log')\n",
    "    plt.legend()\n",
    "\n",
    "    if save:\n",
    "        plt.savefig(filename, dpi = 1000)\n",
    "    else:\n",
    "        plt.show()\n",
    "\n",
    "# TODO: needs fixing!\n",
    "def plot_channels(data, timepoints, time_start, time_end, n_channels = 0, channel_list: list = None, offset = 1.0, y_lab = 'Channel'):\n",
    "    # Get only the data from time range of interest and only the channels of interest\n",
    "    # If specific channel list is specified, use channels from the list\n",
    "    if channel_list is not None and len(channel_list) != 0:\n",
    "        data = data[ time_start:time_end, channel_list ]\n",
    "        n_channels = len(channel_list)\n",
    "        channel_names = channel_list\n",
    "    else:\n",
    "        data = data[ time_start:time_end, 0:n_channels ]\n",
    "        channel_names = list(range(0, data.shape[ 1 ]))\n",
    "\n",
    "    # Scale the data and add an offset for plotting\n",
    "    scaled = data / np.max(np.abs(data))\n",
    "    channel_offset = list(range(0, scaled.shape[ 1 ])) * np.array(offset)\n",
    "    scaled = scaled + channel_offset\n",
    "\n",
    "    plt.plot(timepoints[ time_start:time_end ], scaled, color = 'black', linewidth = 0.4)\n",
    "    plt.yticks(channel_offset, channel_names)\n",
    "    plt.ylim(-1, offset * n_channels - 1)\n",
    "    plt.ylabel(y_lab)\n",
    "    plt.xlabel('Time, s')\n",
    "    plt.show()"
   ]
  },
  {
   "cell_type": "code",
   "execution_count": 11,
   "id": "46d777f7130427d2",
   "metadata": {
    "ExecuteTime": {
     "end_time": "2023-11-18T14:18:59.192663Z",
     "start_time": "2023-11-18T14:18:59.189350Z"
    },
    "collapsed": false,
    "editable": true,
    "slideshow": {
     "slide_type": ""
    },
    "tags": [
     "hide_code"
    ]
   },
   "outputs": [
    {
     "data": {
      "text/markdown": [
       "# Preprocessing of S2_run1"
      ],
      "text/plain": [
       "<IPython.core.display.Markdown object>"
      ]
     },
     "execution_count": 11,
     "metadata": {},
     "output_type": "execute_result"
    }
   ],
   "source": [
    "md(f'# Preprocessing of {snakemake[ \"wildcards\" ][ 1 ]}')"
   ]
  },
  {
   "cell_type": "code",
   "execution_count": null,
   "id": "8994c23ca222110d",
   "metadata": {
    "collapsed": false
   },
   "outputs": [],
   "source": [
    "raw = loadmat(snakemake[ 'input' ][ 1 ])[ 'y' ].transpose()\n",
    "raw.shape"
   ]
  },
  {
   "cell_type": "code",
   "execution_count": null,
   "id": "976783ef0f62a5b2",
   "metadata": {
    "collapsed": false
   },
   "outputs": [],
   "source": [
    "sample_rate = config[ 'sampleRate' ]\n",
    "sample_rate"
   ]
  },
  {
   "cell_type": "code",
   "execution_count": null,
   "id": "c4552d8172becb25",
   "metadata": {
    "collapsed": false
   },
   "outputs": [],
   "source": [
    "timepoints = raw[ :, 0 ]\n",
    "events = raw[ :, -1 ]\n",
    "data = raw[ :, 1:(-1) ]\n",
    "data.shape"
   ]
  },
  {
   "cell_type": "code",
   "execution_count": null,
   "id": "f31dbbf8a611c48c",
   "metadata": {
    "collapsed": false
   },
   "outputs": [],
   "source": [
    "assert round(raw.shape[ 0 ] / sample_rate) == round(timepoints[ -1 ])\n",
    "f'Measurement length in seconds is {round(timepoints[ -1 ], 2)}'"
   ]
  },
  {
   "cell_type": "code",
   "execution_count": null,
   "id": "733e1b1f92fb1a6f",
   "metadata": {
    "collapsed": false
   },
   "outputs": [],
   "source": [
    "plt.figure(figsize = (12, 6))\n",
    "plot_periodogram(data, sample_rate)"
   ]
  },
  {
   "cell_type": "code",
   "execution_count": null,
   "id": "dff6f5fd0f31482a",
   "metadata": {
    "collapsed": false
   },
   "outputs": [],
   "source": [
    "powerline = [ 60, 120, 180, 240 ]\n",
    "\n",
    "filtered = remove_powerline(data, powerline, sample_rate, range = 10)\n",
    "filtered = low_pass(filtered, 290, sample_rate)"
   ]
  },
  {
   "cell_type": "code",
   "execution_count": null,
   "id": "65f6976b7b4be1f1",
   "metadata": {
    "collapsed": false
   },
   "outputs": [],
   "source": [
    "plt.figure(figsize = (12, 6))\n",
    "plot_periodogram(filtered, sample_rate)"
   ]
  },
  {
   "cell_type": "code",
   "execution_count": null,
   "id": "afeaa68d27a80c59",
   "metadata": {
    "collapsed": false
   },
   "outputs": [],
   "source": [
    "plt.figure(figsize = (12, 6))\n",
    "plot_periodograms([ data, filtered ], [ 'Before filtering', 'After filtering' ], sample_rate)"
   ]
  },
  {
   "cell_type": "code",
   "execution_count": null,
   "id": "7fca9099bd2a7e31",
   "metadata": {
    "collapsed": false
   },
   "outputs": [],
   "source": [
    "time_start = round(int(np.where(events == 2)[ 0 ][ 0 ]), -3)\n",
    "time_end = int(time_start + 5e3)\n",
    "\n",
    "plt.figure(figsize = (15, 10))\n",
    "plot_channels(filtered, timepoints, time_start, time_end, n_channels = 10, offset = 2)"
   ]
  },
  {
   "cell_type": "code",
   "execution_count": null,
   "id": "1ea681c1487d6318",
   "metadata": {
    "collapsed": false
   },
   "outputs": [],
   "source": [
    "transformer = FastICA(n_components = 20, random_state = 42, whiten = 'unit-variance', max_iter = 200)\n",
    "\n",
    "start_time = datetime.now()\n",
    "\n",
    "# Reconstruct the signal\n",
    "sources = transformer.fit_transform(filtered)\n",
    "\n",
    "end_time = datetime.now()\n",
    "print('Duration: {}'.format(end_time - start_time))"
   ]
  },
  {
   "cell_type": "code",
   "execution_count": null,
   "id": "d88c02e57a0705a9",
   "metadata": {
    "collapsed": false
   },
   "outputs": [],
   "source": [
    "plt.figure(figsize = (15, 10))\n",
    "plot_channels(sources, timepoints, time_start, time_end, n_channels = 20, offset = 2, y_lab = 'Component')"
   ]
  },
  {
   "cell_type": "code",
   "execution_count": null,
   "outputs": [],
   "source": [
    "# TODO: plot the bandwidths\n",
    "\n",
    "# bandwidths = {\n",
    "#     'delta': (1, 4),\n",
    "#     'theta': (4, 8),\n",
    "#     'alpha': (8, 13),\n",
    "#     'beta': (13, 32),\n",
    "#     'gamma': (32, 50)\n",
    "# }\n",
    "# \n",
    "# bandwidth_filters = {\n",
    "#     name: signal.butter(N = 20, Wn = frange, btype = 'bp', output = 'sos', fs = sample_rate)\n",
    "#     for name, frange in bandwidths.items()\n",
    "# }\n",
    "# \n",
    "# fig, axes = plt.subplots(len(bandwidths), figsize = (12, 10), sharex = True, sharey = True)\n",
    "# \n",
    "# for i, (b, filter_i) in enumerate(bandwidth_filters.items()):\n",
    "#     decomposed = signal.sosfiltfilt(filter_i, final_data[ :, 77 ])\n",
    "#     axes[ i ].plot(decomposed[ :sample_rate * 3 ])\n",
    "#     axes[ i ].set_title(f'{b} ({bandwidths[ b ][ 0 ]}-{bandwidths[ b ][ 1 ]} Hz)')\n",
    "# \n",
    "# plt.tight_layout()\n",
    "# plt.show()"
   ],
   "metadata": {
    "collapsed": false
   },
   "id": "6b3defdee856a022"
  }
 ],
 "metadata": {
  "kernelspec": {
   "display_name": "Python 3 (ipykernel)",
   "language": "python",
   "name": "python3"
  },
  "language_info": {
   "codemirror_mode": {
    "name": "ipython",
    "version": 3
   },
   "file_extension": ".py",
   "mimetype": "text/x-python",
   "name": "python",
   "nbconvert_exporter": "python",
   "pygments_lexer": "ipython3",
   "version": "3.11.6"
  }
 },
 "nbformat": 4,
 "nbformat_minor": 5
}
