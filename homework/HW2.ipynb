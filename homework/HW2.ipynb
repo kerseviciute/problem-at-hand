{
 "cells": [
  {
   "cell_type": "markdown",
   "metadata": {
    "id": "QfGvNd82hbk-"
   },
   "source": [
    "# Homework 2: Complete exercises by solving simple data problems (2 weeks)\n",
    "\n",
    "* Read tasks and write your solutions into cells with the `# Exercise solution` comment in them.\n",
    "* The notebook should run from start to end without any stops (exceptions).\n",
    "* Remove all unnecesary code (drafts etc.) before submitting. Keep your final solution in a single corresponding cell for each task."
   ]
  },
  {
   "cell_type": "markdown",
   "metadata": {
    "id": "C6Eucet8jmv5"
   },
   "source": [
    "## Exercise 1: basic syntax\n",
    "(1 point)\n",
    "\n",
    "**TASK:**\n",
    "\n",
    "Examine in the cell below. Unmodified, this cell with raise an error. Modify the indicated row so that the cell would return the expected result."
   ]
  },
  {
   "cell_type": "code",
   "execution_count": 7,
   "metadata": {
    "colab": {
     "base_uri": "https://localhost:8080/",
     "height": 131
    },
    "id": "-oSRh-Z5hSdb",
    "outputId": "2b9e4381-9e3b-41bf-b8ea-54fad2335fbc",
    "ExecuteTime": {
     "end_time": "2023-09-30T09:36:27.607567Z",
     "start_time": "2023-09-30T09:36:27.548447Z"
    }
   },
   "outputs": [
    {
     "name": "stdout",
     "output_type": "stream",
     "text": [
      "20\n"
     ]
    }
   ],
   "source": [
    "# Exercise solution\n",
    "\n",
    "fibonacci_numbers_sum = 1 + 1 + 2 + 3 + 5 + 8  # repair this row\n",
    "print(fibonacci_numbers_sum)"
   ]
  },
  {
   "cell_type": "markdown",
   "metadata": {
    "id": "0zR7H1lb6T0z"
   },
   "source": [
    "## Exercise 2: list slicing\n",
    "\n",
    "(1 point)\n",
    "\n",
    "**TASK:**\n",
    "\n",
    "The Fibonacci sequence is the series of numbers where each number is the sum of the two preceding numbers. It starts from two numbers, 0 and 1; the third number would be 0+1=1, then 1+1=2, then 1+2=3, 5, 8, etc.\n",
    "\n",
    "You have a list containing Fibonacci numbers up to 100000. **Using slicing**, calculate the sum of numbers found between 610 and 46368 (these two numbers included)."
   ]
  },
  {
   "cell_type": "code",
   "execution_count": 8,
   "metadata": {
    "colab": {
     "base_uri": "https://localhost:8080/"
    },
    "id": "1YP7DueH7YD6",
    "outputId": "624ce5a3-e5d4-4bc8-9d0f-58682ee4bd5b",
    "ExecuteTime": {
     "end_time": "2023-09-30T09:36:27.610207Z",
     "start_time": "2023-09-30T09:36:27.553323Z"
    }
   },
   "outputs": [],
   "source": [
    "fibonacci_100000 = [ 0, 1, 1, 2, 3, 5, 8, 13, 21, 34, 55, 89, 144, 233, 377,\n",
    "                     610, 987, 1597, 2584, 4181, 6765, 10946, 17711, 28657,\n",
    "                     46368, 75025 ]"
   ]
  },
  {
   "cell_type": "code",
   "execution_count": 9,
   "metadata": {
    "ExecuteTime": {
     "end_time": "2023-09-30T09:36:27.611420Z",
     "start_time": "2023-09-30T09:36:27.558851Z"
    }
   },
   "outputs": [
    {
     "data": {
      "text/plain": "120406"
     },
     "execution_count": 9,
     "metadata": {},
     "output_type": "execute_result"
    }
   ],
   "source": [
    "# Exercise solution\n",
    "\n",
    "# Make sure the list is ordered\n",
    "fibonacci_100000.sort()\n",
    "\n",
    "# Calculate the sum between 610 and 46368 inclusive\n",
    "sum(fibonacci_100000[ fibonacci_100000.index(610):(fibonacci_100000.index(46368) + 1) ])"
   ]
  },
  {
   "cell_type": "markdown",
   "metadata": {
    "id": "zR25cqNqp2Dr"
   },
   "source": [
    "## Exercise 3: adding parameters to functions\n",
    "(2 points)\n",
    "\n",
    "**TASK:**\n",
    "\n",
    "Below is a simple function which replaces all \"@\" symbols with a space, so email addresses in a given text would be less detectable. It may be useful against certain web scrapers which search for email addresses on internet.\n",
    "\n",
    "A colleague suggested that the same function can be used to remove annoying hashtags (\"#\") from some online texts. It may also be useful to remove other symbols.\n",
    "\n",
    "You need to modify the function so it would have two parameters: the `text` parameter should stay unchanged, and a second parameter should provide the symbol to remove from strings. Use informative name for this new parameter."
   ]
  },
  {
   "cell_type": "code",
   "execution_count": 10,
   "metadata": {
    "id": "Tt-G43Uzp1Z9",
    "ExecuteTime": {
     "end_time": "2023-09-30T09:36:27.628484Z",
     "start_time": "2023-09-30T09:36:27.564068Z"
    }
   },
   "outputs": [],
   "source": [
    "# Exercise solution\n",
    "\n",
    "def processed_text(text: str, remove_char: str = '@') -> str:\n",
    "    processed = text.replace(remove_char, ' ')\n",
    "    return processed"
   ]
  },
  {
   "cell_type": "code",
   "execution_count": 11,
   "metadata": {
    "id": "Kb7yJ7_X5TWS",
    "ExecuteTime": {
     "end_time": "2023-09-30T09:36:27.628736Z",
     "start_time": "2023-09-30T09:36:27.567188Z"
    }
   },
   "outputs": [],
   "source": [
    "# Run this cell to test your solution. Do not change anything! It should not raise any errors.\n",
    "\n",
    "text = \"Fresh #data about rare tropical #snails! Contact snaildata@snail.com\"\n",
    "\n",
    "assert processed_text(text, '@') == \"Fresh #data about rare tropical #snails! Contact snaildata snail.com\"\n",
    "assert processed_text(text, '#') == \"Fresh  data about rare tropical  snails! Contact snaildata@snail.com\"\n",
    "assert processed_text(text, 's') == \"Fre h #data about rare tropical # nail ! Contact  naildata@ nail.com\""
   ]
  },
  {
   "cell_type": "markdown",
   "metadata": {
    "id": "3rkio1IM5d3d"
   },
   "source": [
    "## Exercise 4: extracting a code block into a function\n",
    "\n",
    "(2 points)\n",
    "\n",
    "**TASK:**\n",
    "\n",
    "Below is a working code to calculate RMSD. It would be more convenient to have it as a function.\n",
    "- Move code into a function and name it `calculate_rmsd`. The function should have 2 parameters.\n",
    "- Make the function return calculated values instead of printing them."
   ]
  },
  {
   "cell_type": "code",
   "execution_count": 12,
   "metadata": {
    "id": "MMVmNESM512B",
    "ExecuteTime": {
     "end_time": "2023-09-30T09:36:27.629327Z",
     "start_time": "2023-09-30T09:36:27.570982Z"
    }
   },
   "outputs": [
    {
     "name": "stdout",
     "output_type": "stream",
     "text": [
      "13.19\n"
     ]
    }
   ],
   "source": [
    "values_0 = [ 0.1, 1.2, 4.1, 7.7, 2.0, 8.2, 3.4 ]\n",
    "values_1 = [ 9.1, 1.2, 4.4, 7.6, 2.1, 8.8, 6.7 ]\n",
    "\n",
    "assert (len(values_0) > 0) and (\n",
    "            len(values_0) == len(values_1)), 'List of values should be non-empty and have equal length'\n",
    "differences = [ abs(x0 - x1) for x0, x1 in zip(values_0, values_1) ]\n",
    "differences_squared = [ diff ** 2 for diff in differences ]\n",
    "sum_squared_differences = sum(differences_squared)\n",
    "answer = sum_squared_differences / len(values_0)\n",
    "round_answer = round(answer, 2)\n",
    "print(round_answer)"
   ]
  },
  {
   "cell_type": "code",
   "execution_count": 13,
   "metadata": {
    "id": "Fa5AuYOh6AVa",
    "ExecuteTime": {
     "end_time": "2023-09-30T09:36:27.629648Z",
     "start_time": "2023-09-30T09:36:27.574253Z"
    }
   },
   "outputs": [],
   "source": [
    "# Exercise solution\n",
    "\n",
    "def calculate_rmsd(values_0: list, values_1: list) -> float:\n",
    "    assert (len(values_0) > 0) and (len(values_0) == len(values_1)),\\\n",
    "        'List of values should be non-empty and have equal length'\n",
    "\n",
    "    differences = [ abs(x0 - x1) for x0, x1 in zip(values_0, values_1) ]\n",
    "    differences_squared = [ diff ** 2 for diff in differences ]\n",
    "    sum_squared_differences = sum(differences_squared)\n",
    "    answer = sum_squared_differences / len(values_0)\n",
    "    return round(answer, 2)"
   ]
  },
  {
   "cell_type": "code",
   "execution_count": 14,
   "metadata": {
    "id": "MCP-RkbK6CDJ",
    "ExecuteTime": {
     "end_time": "2023-09-30T09:36:27.629713Z",
     "start_time": "2023-09-30T09:36:27.577182Z"
    }
   },
   "outputs": [],
   "source": [
    "# Run this cell to test your solution. Do not change anything! It should not raise any errors.\n",
    "\n",
    "assert calculate_rmsd([ 1, 2, 3, 4 ], [ 1, 2, 3, 4 ]) == 0\n",
    "assert calculate_rmsd([ 1, 2, 3, 4 ], [ 5, 6, 7, 8 ]) == 16\n",
    "\n",
    "values_0 = [ 0.1, 1.2, 4.1, 7.7, 2.0, 8.2, 3.4 ]\n",
    "values_1 = [ 9.1, 1.2, 4.4, 7.6, 2.1, 8.8, 6.7 ]\n",
    "assert calculate_rmsd(values_0, values_1) == 13.19"
   ]
  },
  {
   "cell_type": "markdown",
   "metadata": {
    "id": "b9bGuuXQdbF9"
   },
   "source": [
    "## Exercise 5: open your dataset\n",
    "\n",
    "(4 points)\n",
    "\n",
    "**TASK:**\n",
    "\n",
    "1. Load your dataset into this Jupyter notebook. If you need, you can import relevant packages.\n",
    "\n",
    "  - If you need help with this task, read `open_files_in_python.html`, which is a notebook containing information on how to open files.\n",
    "  - If there are several files (e.g. several recordings done), it is enough to load only one of them. However, if your data has labels or other information stored in a separate files, you need to load them as well.\n",
    "\n",
    "2. Print out the size of your dataset. You may need commands such as `len()` or `.shape()`."
   ]
  },
  {
   "cell_type": "code",
   "execution_count": 15,
   "metadata": {
    "id": "67Wzelopf31W",
    "ExecuteTime": {
     "end_time": "2023-09-30T09:36:27.629755Z",
     "start_time": "2023-09-30T09:36:27.580038Z"
    }
   },
   "outputs": [],
   "source": [
    "# Exercise solution"
   ]
  }
 ],
 "metadata": {
  "colab": {
   "provenance": []
  },
  "kernelspec": {
   "display_name": "Python 3 (ipykernel)",
   "language": "python",
   "name": "python3"
  },
  "language_info": {
   "codemirror_mode": {
    "name": "ipython",
    "version": 3
   },
   "file_extension": ".py",
   "mimetype": "text/x-python",
   "name": "python",
   "nbconvert_exporter": "python",
   "pygments_lexer": "ipython3",
   "version": "3.10.8"
  }
 },
 "nbformat": 4,
 "nbformat_minor": 1
}
