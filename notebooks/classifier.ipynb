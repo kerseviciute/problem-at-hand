{
 "cells": [
  {
   "cell_type": "code",
   "execution_count": 179,
   "id": "initial_id",
   "metadata": {
    "collapsed": true,
    "ExecuteTime": {
     "end_time": "2024-01-11T05:59:25.014386Z",
     "start_time": "2024-01-11T05:59:24.993069Z"
    }
   },
   "outputs": [],
   "source": [
    "import pandas as pd\n",
    "import numpy as np\n",
    "from sklearn.metrics import confusion_matrix\n",
    "from sklearn.preprocessing import LabelEncoder\n",
    "import matplotlib.pyplot as plt\n",
    "from sklearn.model_selection import GridSearchCV\n",
    "from sklearn.ensemble import RandomForestClassifier\n",
    "from sklearn.model_selection import StratifiedKFold\n",
    "from sklearn.metrics import ConfusionMatrixDisplay, precision_score, recall_score"
   ]
  },
  {
   "cell_type": "code",
   "execution_count": 132,
   "outputs": [],
   "source": [
    "with open(f'../python/methods.py', 'r') as file:\n",
    "    exec(file.read())"
   ],
   "metadata": {
    "collapsed": false,
    "ExecuteTime": {
     "end_time": "2024-01-11T03:16:10.298986Z",
     "start_time": "2024-01-11T03:16:10.287340Z"
    }
   },
   "id": "94526623b2e9170f"
  },
  {
   "cell_type": "code",
   "execution_count": 133,
   "outputs": [],
   "source": [
    "samples = pd.read_csv('../sample_sheet.csv')\n",
    "samples = samples[samples['SampleID'] == 'S2']"
   ],
   "metadata": {
    "collapsed": false,
    "ExecuteTime": {
     "end_time": "2024-01-11T03:16:10.898441Z",
     "start_time": "2024-01-11T03:16:10.890964Z"
    }
   },
   "id": "52a4b8e1bed19341"
  },
  {
   "cell_type": "code",
   "execution_count": 134,
   "outputs": [
    {
     "data": {
      "text/plain": "        SID    Run SampleID                            URL  Age   Sex  \\\n0   S2_run1   run1       S2  https://osf.io/download/n2wgu   33  Male   \n1   S2_run2   run2       S2  https://osf.io/download/5z92u   33  Male   \n2   S2_run3   run3       S2  https://osf.io/download/vn64p   33  Male   \n3   S2_run4   run4       S2  https://osf.io/download/98hzm   33  Male   \n4   S2_run5   run5       S2  https://osf.io/download/ue35a   33  Male   \n5   S2_run6   run6       S2  https://osf.io/download/df6ab   33  Male   \n6   S2_run7   run7       S2  https://osf.io/download/tfs54   33  Male   \n7   S2_run8   run8       S2  https://osf.io/download/3qebs   33  Male   \n8   S2_run9   run9       S2  https://osf.io/download/2bers   33  Male   \n9  S2_run10  run10       S2  https://osf.io/download/2dnmy   33  Male   \n\n  DominantHand  \n0        Right  \n1        Right  \n2        Right  \n3        Right  \n4        Right  \n5        Right  \n6        Right  \n7        Right  \n8        Right  \n9        Right  ",
      "text/html": "<div>\n<style scoped>\n    .dataframe tbody tr th:only-of-type {\n        vertical-align: middle;\n    }\n\n    .dataframe tbody tr th {\n        vertical-align: top;\n    }\n\n    .dataframe thead th {\n        text-align: right;\n    }\n</style>\n<table border=\"1\" class=\"dataframe\">\n  <thead>\n    <tr style=\"text-align: right;\">\n      <th></th>\n      <th>SID</th>\n      <th>Run</th>\n      <th>SampleID</th>\n      <th>URL</th>\n      <th>Age</th>\n      <th>Sex</th>\n      <th>DominantHand</th>\n    </tr>\n  </thead>\n  <tbody>\n    <tr>\n      <th>0</th>\n      <td>S2_run1</td>\n      <td>run1</td>\n      <td>S2</td>\n      <td>https://osf.io/download/n2wgu</td>\n      <td>33</td>\n      <td>Male</td>\n      <td>Right</td>\n    </tr>\n    <tr>\n      <th>1</th>\n      <td>S2_run2</td>\n      <td>run2</td>\n      <td>S2</td>\n      <td>https://osf.io/download/5z92u</td>\n      <td>33</td>\n      <td>Male</td>\n      <td>Right</td>\n    </tr>\n    <tr>\n      <th>2</th>\n      <td>S2_run3</td>\n      <td>run3</td>\n      <td>S2</td>\n      <td>https://osf.io/download/vn64p</td>\n      <td>33</td>\n      <td>Male</td>\n      <td>Right</td>\n    </tr>\n    <tr>\n      <th>3</th>\n      <td>S2_run4</td>\n      <td>run4</td>\n      <td>S2</td>\n      <td>https://osf.io/download/98hzm</td>\n      <td>33</td>\n      <td>Male</td>\n      <td>Right</td>\n    </tr>\n    <tr>\n      <th>4</th>\n      <td>S2_run5</td>\n      <td>run5</td>\n      <td>S2</td>\n      <td>https://osf.io/download/ue35a</td>\n      <td>33</td>\n      <td>Male</td>\n      <td>Right</td>\n    </tr>\n    <tr>\n      <th>5</th>\n      <td>S2_run6</td>\n      <td>run6</td>\n      <td>S2</td>\n      <td>https://osf.io/download/df6ab</td>\n      <td>33</td>\n      <td>Male</td>\n      <td>Right</td>\n    </tr>\n    <tr>\n      <th>6</th>\n      <td>S2_run7</td>\n      <td>run7</td>\n      <td>S2</td>\n      <td>https://osf.io/download/tfs54</td>\n      <td>33</td>\n      <td>Male</td>\n      <td>Right</td>\n    </tr>\n    <tr>\n      <th>7</th>\n      <td>S2_run8</td>\n      <td>run8</td>\n      <td>S2</td>\n      <td>https://osf.io/download/3qebs</td>\n      <td>33</td>\n      <td>Male</td>\n      <td>Right</td>\n    </tr>\n    <tr>\n      <th>8</th>\n      <td>S2_run9</td>\n      <td>run9</td>\n      <td>S2</td>\n      <td>https://osf.io/download/2bers</td>\n      <td>33</td>\n      <td>Male</td>\n      <td>Right</td>\n    </tr>\n    <tr>\n      <th>9</th>\n      <td>S2_run10</td>\n      <td>run10</td>\n      <td>S2</td>\n      <td>https://osf.io/download/2dnmy</td>\n      <td>33</td>\n      <td>Male</td>\n      <td>Right</td>\n    </tr>\n  </tbody>\n</table>\n</div>"
     },
     "execution_count": 134,
     "metadata": {},
     "output_type": "execute_result"
    }
   ],
   "source": [
    "samples"
   ],
   "metadata": {
    "collapsed": false,
    "ExecuteTime": {
     "end_time": "2024-01-11T03:16:15.140121Z",
     "start_time": "2024-01-11T03:16:15.124808Z"
    }
   },
   "id": "4ec5550c4538d09f"
  },
  {
   "cell_type": "code",
   "execution_count": 135,
   "outputs": [
    {
     "name": "stdout",
     "output_type": "stream",
     "text": [
      "Reading feature matrix: ../output/problem-at-hand/S2/run1/feature_matrix.csv\n",
      "Reading feature matrix: ../output/problem-at-hand/S2/run2/feature_matrix.csv\n",
      "Reading feature matrix: ../output/problem-at-hand/S2/run3/feature_matrix.csv\n",
      "Reading feature matrix: ../output/problem-at-hand/S2/run4/feature_matrix.csv\n",
      "Reading feature matrix: ../output/problem-at-hand/S2/run5/feature_matrix.csv\n",
      "Reading feature matrix: ../output/problem-at-hand/S2/run6/feature_matrix.csv\n",
      "Reading feature matrix: ../output/problem-at-hand/S2/run7/feature_matrix.csv\n",
      "Reading feature matrix: ../output/problem-at-hand/S2/run8/feature_matrix.csv\n",
      "Reading feature matrix: ../output/problem-at-hand/S2/run9/feature_matrix.csv\n",
      "Reading feature matrix: ../output/problem-at-hand/S2/run10/feature_matrix.csv\n",
      "Data dimensions after merging all runs: (6144, 4152)\n",
      "Reading feature info: ../output/problem-at-hand/S2/run1/feature_key.csv\n",
      "Reading feature info: ../output/problem-at-hand/S2/run2/feature_key.csv\n",
      "Reading feature info: ../output/problem-at-hand/S2/run3/feature_key.csv\n",
      "Reading feature info: ../output/problem-at-hand/S2/run4/feature_key.csv\n",
      "Reading feature info: ../output/problem-at-hand/S2/run5/feature_key.csv\n",
      "Reading feature info: ../output/problem-at-hand/S2/run6/feature_key.csv\n",
      "Reading feature info: ../output/problem-at-hand/S2/run7/feature_key.csv\n",
      "Reading feature info: ../output/problem-at-hand/S2/run8/feature_key.csv\n",
      "Reading feature info: ../output/problem-at-hand/S2/run9/feature_key.csv\n",
      "Reading feature info: ../output/problem-at-hand/S2/run10/feature_key.csv\n",
      "Number of unique features after merging all runs: 6144\n",
      "Reading event info: ../output/problem-at-hand/S2/run1/event_key.csv\n",
      "Reading event info: ../output/problem-at-hand/S2/run2/event_key.csv\n",
      "Reading event info: ../output/problem-at-hand/S2/run3/event_key.csv\n",
      "Reading event info: ../output/problem-at-hand/S2/run4/event_key.csv\n",
      "Reading event info: ../output/problem-at-hand/S2/run5/event_key.csv\n",
      "Reading event info: ../output/problem-at-hand/S2/run6/event_key.csv\n",
      "Reading event info: ../output/problem-at-hand/S2/run7/event_key.csv\n",
      "Reading event info: ../output/problem-at-hand/S2/run8/event_key.csv\n",
      "Reading event info: ../output/problem-at-hand/S2/run9/event_key.csv\n",
      "Reading event info: ../output/problem-at-hand/S2/run10/event_key.csv\n",
      "Number of unique events after merging all runs: 4152\n",
      "Selecting only finger movement data\n",
      "Number of unique events: 2498\n",
      "Number of unique features: 6144\n",
      "Filtering out power line frequencies\n",
      "Number of unique features after removing power line features: 4608\n"
     ]
    }
   ],
   "source": [
    "# Read and merge all feature matrices\n",
    "feature_matrix = pd.DataFrame()\n",
    "for index, sample in samples.iterrows():\n",
    "    sampleId = sample['SampleID']\n",
    "    run = sample['Run']\n",
    "    file = f'../output/problem-at-hand/{sampleId}/{run}/feature_matrix.csv'\n",
    "    print(f'Reading feature matrix: {file}')\n",
    "    data = pd.read_csv(file, index_col = 0)\n",
    "    feature_matrix = pd.concat([feature_matrix, data], axis = 1)\n",
    "\n",
    "print(f'Data dimensions after merging all runs: {feature_matrix.shape}')\n",
    "\n",
    "# Read and merge information about features\n",
    "feature_info = pd.DataFrame()\n",
    "for index, sample in samples.iterrows():\n",
    "    sampleId = sample['SampleID']\n",
    "    run = sample['Run']\n",
    "    file = f'../output/problem-at-hand/{sampleId}/{run}/feature_key.csv'\n",
    "    print(f'Reading feature info: {file}')\n",
    "    data = pd.read_csv(file)\n",
    "    feature_info = pd.concat([feature_info, data])\n",
    "\n",
    "feature_info = feature_info.drop_duplicates()\n",
    "print(f'Number of unique features after merging all runs: {len(feature_info)}')\n",
    "assert len(feature_info) == feature_matrix.shape[0]\n",
    "\n",
    "# Merging and separating both tables to make sure the indexes match\n",
    "merged = pd.merge(feature_info, feature_matrix, left_on = 'FeatureID', right_index = True)\n",
    "merged.index = merged['FeatureID']\n",
    "feature_info = merged[['FeatureID', 'Channel', 'Frequency']]\n",
    "feature_matrix = merged[merged.columns[3:]]\n",
    "\n",
    "assert len(feature_info) == feature_matrix.shape[0]\n",
    "assert all(feature_info['FeatureID'] == feature_matrix.index)\n",
    "\n",
    "# Read and merge information about events\n",
    "event_info = pd.DataFrame()\n",
    "for index, sample in samples.iterrows():\n",
    "    sampleId = sample['SampleID']\n",
    "    run = sample['Run']\n",
    "    file = f'../output/problem-at-hand/{sampleId}/{run}/event_key.csv'\n",
    "    print(f'Reading event info: {file}')\n",
    "    data = pd.read_csv(file)\n",
    "    event_info = pd.concat([event_info, data])\n",
    "\n",
    "event_info = event_info.drop_duplicates()\n",
    "print(f'Number of unique events after merging all runs: {len(event_info)}')\n",
    "assert len(event_info) == feature_matrix.shape[1]\n",
    "\n",
    "print('Selecting only finger movement data')\n",
    "event_info = event_info[event_info['Event'] != 0]\n",
    "\n",
    "event_info['Event'].value_counts()\n",
    "\n",
    "# Ensure that columns match\n",
    "feature_matrix = feature_matrix[event_info['EventID']]\n",
    "\n",
    "assert len(event_info) == feature_matrix.shape[1]\n",
    "assert all(event_info['EventID'] == feature_matrix.columns)\n",
    "\n",
    "print(f'Number of unique events: {len(event_info)}')\n",
    "print(f'Number of unique features: {len(feature_info)}')\n",
    "\n",
    "print('Filtering out power line frequencies')\n",
    "freq_step = 5\n",
    "keep = np.logical_or(\n",
    "    feature_info['Frequency'] < 50 - freq_step + 1,\n",
    "    feature_info['Frequency'] > 70\n",
    ")\n",
    "\n",
    "feature_info = feature_info[keep]\n",
    "feature_matrix = feature_matrix[keep]\n",
    "\n",
    "assert len(feature_info) == feature_matrix.shape[0]\n",
    "assert all(feature_info['FeatureID'] == feature_matrix.index)\n",
    "assert len(event_info) == feature_matrix.shape[1]\n",
    "assert all(event_info['EventID'] == feature_matrix.columns)\n",
    "\n",
    "print(f'Number of unique features after removing power line features: {len(feature_info)}')"
   ],
   "metadata": {
    "collapsed": false,
    "ExecuteTime": {
     "end_time": "2024-01-11T03:16:23.170902Z",
     "start_time": "2024-01-11T03:16:19.790544Z"
    }
   },
   "id": "c38ad319cbc183b6"
  },
  {
   "cell_type": "code",
   "execution_count": 136,
   "outputs": [
    {
     "data": {
      "text/plain": "(4608, 2498)"
     },
     "execution_count": 136,
     "metadata": {},
     "output_type": "execute_result"
    }
   ],
   "source": [
    "feature_matrix.values.shape"
   ],
   "metadata": {
    "collapsed": false,
    "ExecuteTime": {
     "end_time": "2024-01-11T03:17:12.249345Z",
     "start_time": "2024-01-11T03:17:12.238058Z"
    }
   },
   "id": "c756a97b9fb18e45"
  },
  {
   "cell_type": "code",
   "execution_count": 137,
   "outputs": [],
   "source": [
    "x = feature_matrix.values\n",
    "x = np.log(x)\n",
    "x = (x.T - np.mean(x, axis = 1)) / np.std(x, axis = 1)"
   ],
   "metadata": {
    "collapsed": false,
    "ExecuteTime": {
     "end_time": "2024-01-11T03:17:32.369056Z",
     "start_time": "2024-01-11T03:17:32.246109Z"
    }
   },
   "id": "48782c80f9265339"
  },
  {
   "cell_type": "code",
   "execution_count": 138,
   "outputs": [],
   "source": [
    "# Data was transposed\n",
    "assert len(feature_info) == x.shape[1]\n",
    "assert len(event_info) == x.shape[0]"
   ],
   "metadata": {
    "collapsed": false,
    "ExecuteTime": {
     "end_time": "2024-01-11T03:17:33.480765Z",
     "start_time": "2024-01-11T03:17:33.472799Z"
    }
   },
   "id": "2622ecc8a9d81215"
  },
  {
   "cell_type": "code",
   "execution_count": 139,
   "outputs": [],
   "source": [
    "y = LabelEncoder().fit_transform(event_info['Event'])\n",
    "\n",
    "assert len(y) == len(event_info)\n",
    "assert len(y) == x.shape[0]"
   ],
   "metadata": {
    "collapsed": false,
    "ExecuteTime": {
     "end_time": "2024-01-11T03:17:34.395866Z",
     "start_time": "2024-01-11T03:17:34.389952Z"
    }
   },
   "id": "dbc1df97a7773378"
  },
  {
   "cell_type": "code",
   "execution_count": 161,
   "outputs": [
    {
     "name": "stdout",
     "output_type": "stream",
     "text": [
      "Fitting 5 folds for each of 60 candidates, totalling 300 fits\n",
      "[CV 2/5] END .......max_depth=2, n_estimators=2;, score=0.152 total time=   0.1s\n",
      "[CV 3/5] END .......max_depth=2, n_estimators=2;, score=0.141 total time=   0.1s\n",
      "[CV 5/5] END .......max_depth=2, n_estimators=2;, score=0.123 total time=   0.1s\n",
      "[CV 2/5] END .......max_depth=2, n_estimators=4;, score=0.152 total time=   0.1s\n",
      "[CV 4/5] END .......max_depth=2, n_estimators=4;, score=0.145 total time=   0.1s\n",
      "[CV 1/5] END .......max_depth=2, n_estimators=8;, score=0.189 total time=   0.1s\n",
      "[CV 3/5] END .......max_depth=2, n_estimators=8;, score=0.149 total time=   0.1s\n",
      "[CV 5/5] END .......max_depth=2, n_estimators=8;, score=0.188 total time=   0.1s\n",
      "[CV 2/5] END ......max_depth=2, n_estimators=16;, score=0.164 total time=   0.2s\n",
      "[CV 4/5] END ......max_depth=2, n_estimators=16;, score=0.176 total time=   0.2s\n",
      "[CV 1/5] END ......max_depth=2, n_estimators=32;, score=0.180 total time=   0.4s\n",
      "[CV 3/5] END ......max_depth=2, n_estimators=32;, score=0.162 total time=   0.3s\n",
      "[CV 5/5] END ......max_depth=2, n_estimators=32;, score=0.217 total time=   0.3s\n",
      "[CV 2/5] END ......max_depth=2, n_estimators=64;, score=0.193 total time=   0.6s\n",
      "[CV 4/5] END ......max_depth=2, n_estimators=64;, score=0.182 total time=   0.6s\n",
      "[CV 1/5] END .....max_depth=2, n_estimators=128;, score=0.168 total time=   1.3s\n",
      "[CV 3/5] END .....max_depth=2, n_estimators=128;, score=0.151 total time=   1.1s\n",
      "[CV 5/5] END .....max_depth=2, n_estimators=128;, score=0.198 total time=   1.2s\n",
      "[CV 2/5] END .....max_depth=2, n_estimators=256;, score=0.196 total time=   2.4s\n",
      "[CV 4/5] END .....max_depth=2, n_estimators=256;, score=0.177 total time=   2.4s\n",
      "[CV 1/5] END .......max_depth=4, n_estimators=2;, score=0.193 total time=   0.1s\n",
      "[CV 2/5] END .......max_depth=4, n_estimators=2;, score=0.178 total time=   0.1s\n",
      "[CV 3/5] END .......max_depth=4, n_estimators=2;, score=0.209 total time=   0.1s\n",
      "[CV 4/5] END .......max_depth=4, n_estimators=2;, score=0.189 total time=   0.1s\n",
      "[CV 5/5] END .......max_depth=4, n_estimators=2;, score=0.136 total time=   0.1s\n",
      "[CV 1/5] END .......max_depth=4, n_estimators=4;, score=0.184 total time=   0.1s\n",
      "[CV 2/5] END .......max_depth=4, n_estimators=4;, score=0.203 total time=   0.1s\n",
      "[CV 3/5] END .......max_depth=4, n_estimators=4;, score=0.212 total time=   0.1s\n",
      "[CV 4/5] END .......max_depth=4, n_estimators=4;, score=0.191 total time=   0.1s\n",
      "[CV 5/5] END .......max_depth=4, n_estimators=4;, score=0.190 total time=   0.1s\n",
      "[CV 1/5] END .......max_depth=4, n_estimators=8;, score=0.178 total time=   0.2s\n",
      "[CV 2/5] END .......max_depth=4, n_estimators=8;, score=0.185 total time=   0.1s\n",
      "[CV 4/5] END .......max_depth=4, n_estimators=8;, score=0.195 total time=   0.2s\n",
      "[CV 1/5] END ......max_depth=4, n_estimators=16;, score=0.191 total time=   0.3s\n",
      "[CV 3/5] END ......max_depth=4, n_estimators=16;, score=0.178 total time=   0.3s\n",
      "[CV 5/5] END ......max_depth=4, n_estimators=16;, score=0.190 total time=   0.3s\n",
      "[CV 2/5] END ......max_depth=4, n_estimators=32;, score=0.209 total time=   0.6s\n",
      "[CV 4/5] END ......max_depth=4, n_estimators=32;, score=0.162 total time=   0.6s\n",
      "[CV 1/5] END ......max_depth=4, n_estimators=64;, score=0.161 total time=   1.2s\n",
      "[CV 3/5] END ......max_depth=4, n_estimators=64;, score=0.179 total time=   1.1s\n",
      "[CV 5/5] END ......max_depth=4, n_estimators=64;, score=0.177 total time=   1.1s\n",
      "[CV 2/5] END .....max_depth=4, n_estimators=128;, score=0.176 total time=   2.2s\n",
      "[CV 4/5] END .....max_depth=4, n_estimators=128;, score=0.199 total time=   2.2s\n",
      "[CV 1/5] END .....max_depth=4, n_estimators=256;, score=0.170 total time=   4.3s\n",
      "[CV 3/5] END .....max_depth=4, n_estimators=256;, score=0.194 total time=   4.2s\n",
      "[CV 5/5] END .....max_depth=4, n_estimators=256;, score=0.169 total time=   4.3s\n",
      "[CV 4/5] END .......max_depth=8, n_estimators=8;, score=0.176 total time=   0.3s\n",
      "[CV 1/5] END ......max_depth=8, n_estimators=16;, score=0.180 total time=   1.0s\n",
      "[CV 3/5] END ......max_depth=8, n_estimators=16;, score=0.197 total time=   0.7s\n",
      "[CV 5/5] END ......max_depth=8, n_estimators=16;, score=0.192 total time=   0.5s\n",
      "[CV 2/5] END ......max_depth=8, n_estimators=32;, score=0.172 total time=   1.0s\n",
      "[CV 4/5] END ......max_depth=8, n_estimators=32;, score=0.152 total time=   1.0s\n",
      "[CV 1/5] END ......max_depth=8, n_estimators=64;, score=0.184 total time=   2.1s\n",
      "[CV 3/5] END ......max_depth=8, n_estimators=64;, score=0.186 total time=   2.0s\n",
      "[CV 5/5] END ......max_depth=8, n_estimators=64;, score=0.192 total time=   2.0s\n",
      "[CV 2/5] END .....max_depth=8, n_estimators=128;, score=0.170 total time=   4.0s\n",
      "[CV 4/5] END .....max_depth=8, n_estimators=128;, score=0.179 total time=   4.0s\n",
      "[CV 1/5] END .....max_depth=8, n_estimators=256;, score=0.183 total time=   8.1s\n",
      "[CV 3/5] END .....max_depth=8, n_estimators=256;, score=0.216 total time=   8.3s\n",
      "[CV 5/5] END .....max_depth=8, n_estimators=256;, score=0.178 total time=   8.1s\n",
      "[CV 2/5] END .....max_depth=16, n_estimators=16;, score=0.203 total time=   0.8s\n",
      "[CV 4/5] END .....max_depth=16, n_estimators=16;, score=0.169 total time=   0.8s\n",
      "[CV 1/5] END .....max_depth=16, n_estimators=32;, score=0.191 total time=   1.6s\n",
      "[CV 3/5] END .....max_depth=16, n_estimators=32;, score=0.198 total time=   1.4s\n",
      "[CV 5/5] END .....max_depth=16, n_estimators=32;, score=0.190 total time=   1.6s\n",
      "[CV 2/5] END .....max_depth=16, n_estimators=64;, score=0.178 total time=   3.1s\n",
      "[CV 4/5] END .....max_depth=16, n_estimators=64;, score=0.202 total time=   2.9s\n",
      "[CV 1/5] END ....max_depth=16, n_estimators=128;, score=0.188 total time=   6.1s\n",
      "[CV 3/5] END ....max_depth=16, n_estimators=128;, score=0.212 total time=   5.8s\n",
      "[CV 5/5] END ....max_depth=16, n_estimators=128;, score=0.196 total time=   5.8s\n",
      "[CV 2/5] END ....max_depth=16, n_estimators=256;, score=0.187 total time=  12.1s\n",
      "[CV 4/5] END ....max_depth=16, n_estimators=256;, score=0.182 total time=  11.6s\n",
      "[CV 1/5] END ......max_depth=32, n_estimators=2;, score=0.173 total time=   0.2s\n",
      "[CV 2/5] END ......max_depth=32, n_estimators=2;, score=0.192 total time=   0.2s\n",
      "[CV 3/5] END ......max_depth=32, n_estimators=2;, score=0.183 total time=   0.2s\n",
      "[CV 4/5] END ......max_depth=32, n_estimators=2;, score=0.187 total time=   0.3s\n",
      "[CV 5/5] END ......max_depth=32, n_estimators=2;, score=0.199 total time=   0.2s\n",
      "[CV 1/5] END ......max_depth=32, n_estimators=4;, score=0.189 total time=   0.2s\n",
      "[CV 2/5] END ......max_depth=32, n_estimators=4;, score=0.218 total time=   0.2s\n",
      "[CV 3/5] END ......max_depth=32, n_estimators=4;, score=0.195 total time=   0.2s\n",
      "[CV 4/5] END ......max_depth=32, n_estimators=4;, score=0.186 total time=   0.3s\n",
      "[CV 5/5] END ......max_depth=32, n_estimators=4;, score=0.178 total time=   0.2s\n",
      "[CV 1/5] END ......max_depth=32, n_estimators=8;, score=0.219 total time=   0.4s\n",
      "[CV 2/5] END ......max_depth=32, n_estimators=8;, score=0.205 total time=   0.4s\n",
      "[CV 3/5] END ......max_depth=32, n_estimators=8;, score=0.157 total time=   0.4s\n",
      "[CV 4/5] END ......max_depth=32, n_estimators=8;, score=0.174 total time=   0.4s\n",
      "[CV 5/5] END ......max_depth=32, n_estimators=8;, score=0.202 total time=   0.5s\n",
      "[CV 1/5] END .....max_depth=32, n_estimators=16;, score=0.206 total time=   0.8s\n",
      "[CV 2/5] END .....max_depth=32, n_estimators=16;, score=0.192 total time=   0.8s\n",
      "[CV 3/5] END .....max_depth=32, n_estimators=16;, score=0.181 total time=   0.7s\n",
      "[CV 4/5] END .....max_depth=32, n_estimators=16;, score=0.182 total time=   0.8s\n",
      "[CV 5/5] END .....max_depth=32, n_estimators=16;, score=0.192 total time=   0.9s\n",
      "[CV 1/5] END .....max_depth=32, n_estimators=32;, score=0.201 total time=   1.6s\n",
      "[CV 3/5] END .....max_depth=32, n_estimators=32;, score=0.227 total time=   1.6s\n",
      "[CV 5/5] END .....max_depth=32, n_estimators=32;, score=0.189 total time=   1.6s\n",
      "[CV 2/5] END .....max_depth=32, n_estimators=64;, score=0.191 total time=   3.3s\n",
      "[CV 4/5] END .....max_depth=32, n_estimators=64;, score=0.187 total time=   3.2s\n",
      "[CV 1/5] END ....max_depth=32, n_estimators=128;, score=0.191 total time=   6.2s\n",
      "[CV 3/5] END ....max_depth=32, n_estimators=128;, score=0.194 total time=   6.4s\n",
      "[CV 5/5] END ....max_depth=32, n_estimators=128;, score=0.186 total time=   6.1s\n",
      "[CV 2/5] END ....max_depth=32, n_estimators=256;, score=0.171 total time=  12.6s\n",
      "[CV 4/5] END ....max_depth=32, n_estimators=256;, score=0.173 total time=  12.0s\n",
      "[CV 1/5] END ......max_depth=64, n_estimators=2;, score=0.173 total time=   0.2s\n",
      "[CV 2/5] END ......max_depth=64, n_estimators=2;, score=0.192 total time=   0.2s\n",
      "[CV 3/5] END ......max_depth=64, n_estimators=2;, score=0.183 total time=   0.2s\n",
      "[CV 4/5] END ......max_depth=64, n_estimators=2;, score=0.206 total time=   0.3s\n",
      "[CV 5/5] END ......max_depth=64, n_estimators=2;, score=0.199 total time=   0.2s\n",
      "[CV 1/5] END ......max_depth=64, n_estimators=4;, score=0.189 total time=   0.2s\n",
      "[CV 2/5] END ......max_depth=64, n_estimators=4;, score=0.218 total time=   0.2s\n",
      "[CV 3/5] END ......max_depth=64, n_estimators=4;, score=0.195 total time=   0.3s\n",
      "[CV 4/5] END ......max_depth=64, n_estimators=4;, score=0.194 total time=   0.3s\n",
      "[CV 5/5] END ......max_depth=64, n_estimators=4;, score=0.178 total time=   0.2s\n",
      "[CV 1/5] END ......max_depth=64, n_estimators=8;, score=0.219 total time=   0.4s\n",
      "[CV 2/5] END ......max_depth=64, n_estimators=8;, score=0.205 total time=   0.4s\n",
      "[CV 3/5] END ......max_depth=64, n_estimators=8;, score=0.157 total time=   0.4s\n",
      "[CV 4/5] END ......max_depth=64, n_estimators=8;, score=0.184 total time=   0.5s\n",
      "[CV 5/5] END ......max_depth=64, n_estimators=8;, score=0.202 total time=   0.4s\n",
      "[CV 1/5] END .....max_depth=64, n_estimators=16;, score=0.206 total time=   0.8s\n",
      "[CV 2/5] END .....max_depth=64, n_estimators=16;, score=0.186 total time=   0.8s\n",
      "[CV 3/5] END .....max_depth=64, n_estimators=16;, score=0.181 total time=   0.8s\n",
      "[CV 4/5] END .....max_depth=64, n_estimators=16;, score=0.188 total time=   0.7s\n",
      "[CV 5/5] END .....max_depth=64, n_estimators=16;, score=0.192 total time=   0.8s\n",
      "[CV 1/5] END .....max_depth=64, n_estimators=32;, score=0.197 total time=   1.5s\n",
      "[CV 3/5] END .....max_depth=64, n_estimators=32;, score=0.227 total time=   1.6s\n",
      "[CV 5/5] END .....max_depth=64, n_estimators=32;, score=0.189 total time=   1.5s\n",
      "[CV 2/5] END .....max_depth=64, n_estimators=64;, score=0.172 total time=   3.2s\n",
      "[CV 4/5] END .....max_depth=64, n_estimators=64;, score=0.191 total time=   3.0s\n",
      "[CV 1/5] END ....max_depth=64, n_estimators=128;, score=0.193 total time=   5.9s\n",
      "[CV 3/5] END ....max_depth=64, n_estimators=128;, score=0.194 total time=   6.3s\n",
      "[CV 5/5] END ....max_depth=64, n_estimators=128;, score=0.183 total time=   6.2s\n",
      "[CV 2/5] END ....max_depth=64, n_estimators=256;, score=0.166 total time=  13.9s\n",
      "[CV 4/5] END ....max_depth=64, n_estimators=256;, score=0.177 total time=  12.4s\n",
      "[CV 1/5] END .....max_depth=128, n_estimators=2;, score=0.173 total time=   0.2s\n",
      "[CV 2/5] END .....max_depth=128, n_estimators=2;, score=0.192 total time=   0.2s\n",
      "[CV 3/5] END .....max_depth=128, n_estimators=2;, score=0.183 total time=   0.2s\n",
      "[CV 4/5] END .....max_depth=128, n_estimators=2;, score=0.206 total time=   0.3s\n",
      "[CV 5/5] END .....max_depth=128, n_estimators=2;, score=0.199 total time=   0.3s\n",
      "[CV 1/5] END .....max_depth=128, n_estimators=4;, score=0.189 total time=   0.2s\n",
      "[CV 2/5] END .....max_depth=128, n_estimators=4;, score=0.218 total time=   0.2s\n",
      "[CV 3/5] END .....max_depth=128, n_estimators=4;, score=0.195 total time=   0.2s\n",
      "[CV 4/5] END .....max_depth=128, n_estimators=4;, score=0.194 total time=   0.3s\n",
      "[CV 5/5] END .....max_depth=128, n_estimators=4;, score=0.178 total time=   0.2s\n",
      "[CV 1/5] END .....max_depth=128, n_estimators=8;, score=0.219 total time=   0.5s\n",
      "[CV 2/5] END .....max_depth=128, n_estimators=8;, score=0.205 total time=   0.4s\n",
      "[CV 3/5] END .....max_depth=128, n_estimators=8;, score=0.157 total time=   0.5s\n",
      "[CV 4/5] END .....max_depth=128, n_estimators=8;, score=0.184 total time=   0.5s\n",
      "[CV 5/5] END .....max_depth=128, n_estimators=8;, score=0.202 total time=   0.4s\n",
      "[CV 1/5] END ....max_depth=128, n_estimators=16;, score=0.206 total time=   0.8s\n",
      "[CV 2/5] END ....max_depth=128, n_estimators=16;, score=0.186 total time=   0.8s\n",
      "[CV 3/5] END ....max_depth=128, n_estimators=16;, score=0.181 total time=   0.7s\n",
      "[CV 4/5] END ....max_depth=128, n_estimators=16;, score=0.188 total time=   0.8s\n",
      "[CV 5/5] END ....max_depth=128, n_estimators=16;, score=0.192 total time=   0.8s\n",
      "[CV 1/5] END ....max_depth=128, n_estimators=32;, score=0.197 total time=   1.6s\n",
      "[CV 3/5] END ....max_depth=128, n_estimators=32;, score=0.227 total time=   1.6s\n",
      "[CV 5/5] END ....max_depth=128, n_estimators=32;, score=0.189 total time=   1.6s\n",
      "[CV 2/5] END ....max_depth=128, n_estimators=64;, score=0.172 total time=   3.3s\n",
      "[CV 4/5] END ....max_depth=128, n_estimators=64;, score=0.191 total time=   3.0s\n",
      "[CV 1/5] END ...max_depth=128, n_estimators=128;, score=0.193 total time=   6.3s\n",
      "[CV 3/5] END ...max_depth=128, n_estimators=128;, score=0.194 total time=   6.2s\n",
      "[CV 5/5] END ...max_depth=128, n_estimators=128;, score=0.183 total time=   6.1s\n",
      "[CV 2/5] END ...max_depth=128, n_estimators=256;, score=0.166 total time=  13.4s\n",
      "[CV 4/5] END ...max_depth=128, n_estimators=256;, score=0.177 total time=  12.4s\n",
      "[CV 1/5] END .....max_depth=256, n_estimators=2;, score=0.173 total time=   0.2s\n",
      "[CV 2/5] END .....max_depth=256, n_estimators=2;, score=0.192 total time=   0.2s\n",
      "[CV 3/5] END .....max_depth=256, n_estimators=2;, score=0.183 total time=   0.2s\n",
      "[CV 4/5] END .....max_depth=256, n_estimators=2;, score=0.206 total time=   0.3s\n",
      "[CV 5/5] END .....max_depth=256, n_estimators=2;, score=0.199 total time=   0.2s\n",
      "[CV 1/5] END .....max_depth=256, n_estimators=4;, score=0.189 total time=   0.2s\n",
      "[CV 2/5] END .....max_depth=256, n_estimators=4;, score=0.218 total time=   0.2s\n",
      "[CV 3/5] END .....max_depth=256, n_estimators=4;, score=0.195 total time=   0.2s\n",
      "[CV 4/5] END .....max_depth=256, n_estimators=4;, score=0.194 total time=   0.3s\n",
      "[CV 5/5] END .....max_depth=256, n_estimators=4;, score=0.178 total time=   0.2s\n",
      "[CV 1/5] END .....max_depth=256, n_estimators=8;, score=0.219 total time=   0.4s\n",
      "[CV 2/5] END .....max_depth=256, n_estimators=8;, score=0.205 total time=   0.4s\n",
      "[CV 3/5] END .....max_depth=256, n_estimators=8;, score=0.157 total time=   0.5s\n",
      "[CV 4/5] END .....max_depth=256, n_estimators=8;, score=0.184 total time=   0.5s\n",
      "[CV 5/5] END .....max_depth=256, n_estimators=8;, score=0.202 total time=   0.5s\n",
      "[CV 1/5] END ....max_depth=256, n_estimators=16;, score=0.206 total time=   0.8s\n",
      "[CV 2/5] END ....max_depth=256, n_estimators=16;, score=0.186 total time=   0.8s\n",
      "[CV 3/5] END ....max_depth=256, n_estimators=16;, score=0.181 total time=   0.8s\n",
      "[CV 4/5] END ....max_depth=256, n_estimators=16;, score=0.188 total time=   0.7s\n",
      "[CV 1/5] END ....max_depth=256, n_estimators=32;, score=0.197 total time=   1.7s\n",
      "[CV 3/5] END ....max_depth=256, n_estimators=32;, score=0.227 total time=   1.7s\n",
      "[CV 5/5] END ....max_depth=256, n_estimators=32;, score=0.189 total time=   1.6s\n",
      "[CV 2/5] END ....max_depth=256, n_estimators=64;, score=0.172 total time=   3.1s\n",
      "[CV 4/5] END ....max_depth=256, n_estimators=64;, score=0.191 total time=   3.1s\n",
      "[CV 1/5] END ...max_depth=256, n_estimators=128;, score=0.193 total time=   6.3s\n",
      "[CV 3/5] END ...max_depth=256, n_estimators=128;, score=0.194 total time=   6.1s\n",
      "[CV 5/5] END ...max_depth=256, n_estimators=128;, score=0.183 total time=   6.0s\n",
      "[CV 2/5] END ...max_depth=256, n_estimators=256;, score=0.166 total time=  12.6s\n",
      "[CV 4/5] END ...max_depth=256, n_estimators=256;, score=0.177 total time=  12.2s\n",
      "[CV 1/5] END .......max_depth=2, n_estimators=2;, score=0.184 total time=   0.1s\n",
      "[CV 4/5] END .......max_depth=2, n_estimators=2;, score=0.106 total time=   0.1s\n",
      "[CV 2/5] END .......max_depth=2, n_estimators=4;, score=0.152 total time=   0.1s\n",
      "[CV 3/5] END .......max_depth=2, n_estimators=4;, score=0.158 total time=   0.1s\n",
      "[CV 1/5] END .......max_depth=2, n_estimators=8;, score=0.189 total time=   0.2s\n",
      "[CV 2/5] END .......max_depth=2, n_estimators=8;, score=0.163 total time=   0.2s\n",
      "[CV 5/5] END .......max_depth=2, n_estimators=8;, score=0.188 total time=   0.1s\n",
      "[CV 1/5] END ......max_depth=2, n_estimators=16;, score=0.212 total time=   0.2s\n",
      "[CV 4/5] END ......max_depth=2, n_estimators=16;, score=0.176 total time=   0.2s\n",
      "[CV 5/5] END ......max_depth=2, n_estimators=16;, score=0.200 total time=   0.2s\n",
      "[CV 3/5] END ......max_depth=2, n_estimators=32;, score=0.162 total time=   0.3s\n"
     ]
    },
    {
     "data": {
      "text/plain": "GridSearchCV(cv=5,\n             estimator=RandomForestClassifier(criterion='log_loss', n_jobs=4,\n                                              random_state=154),\n             n_jobs=2,\n             param_grid={'max_depth': [2, 4, 8, 16, 32, 64],\n                         'n_estimators': [2, 4, 8, 16, 32, 64, 128, 256, 512,\n                                          1024]},\n             scoring='f1_macro', verbose=3)",
      "text/html": "<style>#sk-container-id-12 {color: black;}#sk-container-id-12 pre{padding: 0;}#sk-container-id-12 div.sk-toggleable {background-color: white;}#sk-container-id-12 label.sk-toggleable__label {cursor: pointer;display: block;width: 100%;margin-bottom: 0;padding: 0.3em;box-sizing: border-box;text-align: center;}#sk-container-id-12 label.sk-toggleable__label-arrow:before {content: \"▸\";float: left;margin-right: 0.25em;color: #696969;}#sk-container-id-12 label.sk-toggleable__label-arrow:hover:before {color: black;}#sk-container-id-12 div.sk-estimator:hover label.sk-toggleable__label-arrow:before {color: black;}#sk-container-id-12 div.sk-toggleable__content {max-height: 0;max-width: 0;overflow: hidden;text-align: left;background-color: #f0f8ff;}#sk-container-id-12 div.sk-toggleable__content pre {margin: 0.2em;color: black;border-radius: 0.25em;background-color: #f0f8ff;}#sk-container-id-12 input.sk-toggleable__control:checked~div.sk-toggleable__content {max-height: 200px;max-width: 100%;overflow: auto;}#sk-container-id-12 input.sk-toggleable__control:checked~label.sk-toggleable__label-arrow:before {content: \"▾\";}#sk-container-id-12 div.sk-estimator input.sk-toggleable__control:checked~label.sk-toggleable__label {background-color: #d4ebff;}#sk-container-id-12 div.sk-label input.sk-toggleable__control:checked~label.sk-toggleable__label {background-color: #d4ebff;}#sk-container-id-12 input.sk-hidden--visually {border: 0;clip: rect(1px 1px 1px 1px);clip: rect(1px, 1px, 1px, 1px);height: 1px;margin: -1px;overflow: hidden;padding: 0;position: absolute;width: 1px;}#sk-container-id-12 div.sk-estimator {font-family: monospace;background-color: #f0f8ff;border: 1px dotted black;border-radius: 0.25em;box-sizing: border-box;margin-bottom: 0.5em;}#sk-container-id-12 div.sk-estimator:hover {background-color: #d4ebff;}#sk-container-id-12 div.sk-parallel-item::after {content: \"\";width: 100%;border-bottom: 1px solid gray;flex-grow: 1;}#sk-container-id-12 div.sk-label:hover label.sk-toggleable__label {background-color: #d4ebff;}#sk-container-id-12 div.sk-serial::before {content: \"\";position: absolute;border-left: 1px solid gray;box-sizing: border-box;top: 0;bottom: 0;left: 50%;z-index: 0;}#sk-container-id-12 div.sk-serial {display: flex;flex-direction: column;align-items: center;background-color: white;padding-right: 0.2em;padding-left: 0.2em;position: relative;}#sk-container-id-12 div.sk-item {position: relative;z-index: 1;}#sk-container-id-12 div.sk-parallel {display: flex;align-items: stretch;justify-content: center;background-color: white;position: relative;}#sk-container-id-12 div.sk-item::before, #sk-container-id-12 div.sk-parallel-item::before {content: \"\";position: absolute;border-left: 1px solid gray;box-sizing: border-box;top: 0;bottom: 0;left: 50%;z-index: -1;}#sk-container-id-12 div.sk-parallel-item {display: flex;flex-direction: column;z-index: 1;position: relative;background-color: white;}#sk-container-id-12 div.sk-parallel-item:first-child::after {align-self: flex-end;width: 50%;}#sk-container-id-12 div.sk-parallel-item:last-child::after {align-self: flex-start;width: 50%;}#sk-container-id-12 div.sk-parallel-item:only-child::after {width: 0;}#sk-container-id-12 div.sk-dashed-wrapped {border: 1px dashed gray;margin: 0 0.4em 0.5em 0.4em;box-sizing: border-box;padding-bottom: 0.4em;background-color: white;}#sk-container-id-12 div.sk-label label {font-family: monospace;font-weight: bold;display: inline-block;line-height: 1.2em;}#sk-container-id-12 div.sk-label-container {text-align: center;}#sk-container-id-12 div.sk-container {/* jupyter's `normalize.less` sets `[hidden] { display: none; }` but bootstrap.min.css set `[hidden] { display: none !important; }` so we also need the `!important` here to be able to override the default hidden behavior on the sphinx rendered scikit-learn.org. See: https://github.com/scikit-learn/scikit-learn/issues/21755 */display: inline-block !important;position: relative;}#sk-container-id-12 div.sk-text-repr-fallback {display: none;}</style><div id=\"sk-container-id-12\" class=\"sk-top-container\"><div class=\"sk-text-repr-fallback\"><pre>GridSearchCV(cv=5,\n             estimator=RandomForestClassifier(criterion=&#x27;log_loss&#x27;, n_jobs=4,\n                                              random_state=154),\n             n_jobs=2,\n             param_grid={&#x27;max_depth&#x27;: [2, 4, 8, 16, 32, 64],\n                         &#x27;n_estimators&#x27;: [2, 4, 8, 16, 32, 64, 128, 256, 512,\n                                          1024]},\n             scoring=&#x27;f1_macro&#x27;, verbose=3)</pre><b>In a Jupyter environment, please rerun this cell to show the HTML representation or trust the notebook. <br />On GitHub, the HTML representation is unable to render, please try loading this page with nbviewer.org.</b></div><div class=\"sk-container\" hidden><div class=\"sk-item sk-dashed-wrapped\"><div class=\"sk-label-container\"><div class=\"sk-label sk-toggleable\"><input class=\"sk-toggleable__control sk-hidden--visually\" id=\"sk-estimator-id-22\" type=\"checkbox\" ><label for=\"sk-estimator-id-22\" class=\"sk-toggleable__label sk-toggleable__label-arrow\">GridSearchCV</label><div class=\"sk-toggleable__content\"><pre>GridSearchCV(cv=5,\n             estimator=RandomForestClassifier(criterion=&#x27;log_loss&#x27;, n_jobs=4,\n                                              random_state=154),\n             n_jobs=2,\n             param_grid={&#x27;max_depth&#x27;: [2, 4, 8, 16, 32, 64],\n                         &#x27;n_estimators&#x27;: [2, 4, 8, 16, 32, 64, 128, 256, 512,\n                                          1024]},\n             scoring=&#x27;f1_macro&#x27;, verbose=3)</pre></div></div></div><div class=\"sk-parallel\"><div class=\"sk-parallel-item\"><div class=\"sk-item\"><div class=\"sk-label-container\"><div class=\"sk-label sk-toggleable\"><input class=\"sk-toggleable__control sk-hidden--visually\" id=\"sk-estimator-id-23\" type=\"checkbox\" ><label for=\"sk-estimator-id-23\" class=\"sk-toggleable__label sk-toggleable__label-arrow\">estimator: RandomForestClassifier</label><div class=\"sk-toggleable__content\"><pre>RandomForestClassifier(criterion=&#x27;log_loss&#x27;, n_jobs=4, random_state=154)</pre></div></div></div><div class=\"sk-serial\"><div class=\"sk-item\"><div class=\"sk-estimator sk-toggleable\"><input class=\"sk-toggleable__control sk-hidden--visually\" id=\"sk-estimator-id-24\" type=\"checkbox\" ><label for=\"sk-estimator-id-24\" class=\"sk-toggleable__label sk-toggleable__label-arrow\">RandomForestClassifier</label><div class=\"sk-toggleable__content\"><pre>RandomForestClassifier(criterion=&#x27;log_loss&#x27;, n_jobs=4, random_state=154)</pre></div></div></div></div></div></div></div></div></div></div>"
     },
     "execution_count": 161,
     "metadata": {},
     "output_type": "execute_result"
    }
   ],
   "source": [
    "param_grid = {\n",
    "    'max_depth': [2, 4, 8, 16, 32, 64],\n",
    "    'n_estimators': [2, 4, 8, 16, 32, 64, 128, 256, 512, 1024]\n",
    "}\n",
    "\n",
    "model = RandomForestClassifier(\n",
    "    random_state = 154,\n",
    "    criterion = 'log_loss',\n",
    "    n_jobs = 4\n",
    ")\n",
    "grid_search = GridSearchCV(model, param_grid, cv = 5, scoring = 'f1_macro', verbose = 3, n_jobs = 2)\n",
    "grid_search.fit(x, y)"
   ],
   "metadata": {
    "collapsed": false,
    "ExecuteTime": {
     "end_time": "2024-01-11T05:00:11.489519Z",
     "start_time": "2024-01-11T04:42:58.790045Z"
    }
   },
   "id": "5a3d7c4b7490b495"
  },
  {
   "cell_type": "code",
   "execution_count": 163,
   "outputs": [
    {
     "name": "stdout",
     "output_type": "stream",
     "text": [
      "Best set of hyperparameters:  {'max_depth': 16, 'n_estimators': 2}\n",
      "Best score:  0.21011220006410108\n"
     ]
    }
   ],
   "source": [
    "print(\"Best set of hyperparameters: \", grid_search.best_params_)\n",
    "print(\"Best score: \", grid_search.best_score_)"
   ],
   "metadata": {
    "collapsed": false,
    "ExecuteTime": {
     "end_time": "2024-01-11T05:01:43.218688Z",
     "start_time": "2024-01-11T05:01:43.205775Z"
    }
   },
   "id": "b232bee074fd131c"
  },
  {
   "cell_type": "code",
   "execution_count": 189,
   "outputs": [
    {
     "data": {
      "text/plain": "<Figure size 640x480 with 1 Axes>",
      "image/png": "[encoded data removed]"
     },
     "metadata": {},
     "output_type": "display_data"
    }
   ],
   "source": [
    "n_estimators = grid_search.best_params_['n_estimators']\n",
    "results = pd.DataFrame(grid_search.cv_results_)\n",
    "\n",
    "for max_depth in np.sort(np.unique(results['param_max_depth'])):\n",
    "    res = results[results['param_max_depth'] == max_depth]\n",
    "    plt.plot(np.log(res['param_n_estimators'].astype(float)), res['mean_test_score'], label = max_depth)\n",
    "\n",
    "plt.legend(title = 'Max depth', loc = 'lower right')\n",
    "plt.xticks(np.log([2, 4, 8, 16, 32, 64, 128, 256, 512, 1024]), np.array([2, 4, 8, 16, 32, 64, 128, 256, 512, 1024]))\n",
    "plt.title('RandomForest accuracy')\n",
    "plt.xlabel('Number of estimators')\n",
    "plt.ylabel('Mean test score')\n",
    "plt.show()"
   ],
   "metadata": {
    "collapsed": false,
    "ExecuteTime": {
     "end_time": "2024-01-11T18:30:02.642543Z",
     "start_time": "2024-01-11T18:30:02.543577Z"
    }
   },
   "id": "f0253c825493c879"
  },
  {
   "cell_type": "code",
   "execution_count": 168,
   "outputs": [],
   "source": [
    "def create_splits(x, y, n_splits = 5):\n",
    "    validator = StratifiedKFold(n_splits = n_splits, random_state = 42, shuffle = True)\n",
    "\n",
    "    splits = []\n",
    "    for train_ix, test_ix in validator.split(x, y):\n",
    "        x_train, y_train = x[train_ix], y[train_ix]\n",
    "        x_test, y_test = x[test_ix], y[test_ix]\n",
    "        splits.append([x_train, y_train, x_test, y_test])\n",
    "\n",
    "    return splits"
   ],
   "metadata": {
    "collapsed": false,
    "ExecuteTime": {
     "end_time": "2024-01-11T05:03:06.039152Z",
     "start_time": "2024-01-11T05:03:06.020177Z"
    }
   },
   "id": "6349d8cf37112939"
  },
  {
   "cell_type": "code",
   "execution_count": 169,
   "outputs": [],
   "source": [
    "# Prepare splits\n",
    "splits = create_splits(x, y)"
   ],
   "metadata": {
    "collapsed": false,
    "ExecuteTime": {
     "end_time": "2024-01-11T05:57:40.674521Z",
     "start_time": "2024-01-11T05:57:40.592168Z"
    }
   },
   "id": "51532005eaf49d5e"
  },
  {
   "cell_type": "code",
   "execution_count": 175,
   "outputs": [
    {
     "name": "stdout",
     "output_type": "stream",
     "text": [
      "max_depth 16\n",
      "n_estimators 2\n"
     ]
    }
   ],
   "source": [
    "max_depth = grid_search.best_params_['max_depth']\n",
    "n_estimators = grid_search.best_params_['n_estimators']\n",
    "\n",
    "print(f'max_depth {max_depth}')\n",
    "print(f'n_estimators {n_estimators}')"
   ],
   "metadata": {
    "collapsed": false,
    "ExecuteTime": {
     "end_time": "2024-01-11T05:58:53.935021Z",
     "start_time": "2024-01-11T05:58:53.895041Z"
    }
   },
   "id": "66f96e27456d7405"
  },
  {
   "cell_type": "code",
   "execution_count": 176,
   "outputs": [
    {
     "name": "stdout",
     "output_type": "stream",
     "text": [
      "Starting another split\n",
      "Model training accuracy: 0.6631631631631631\n",
      "Model testing accuracy: 0.212\n",
      "Starting another split\n",
      "Model training accuracy: 0.7152152152152152\n",
      "Model testing accuracy: 0.21\n",
      "Starting another split\n",
      "Model training accuracy: 0.6861861861861862\n",
      "Model testing accuracy: 0.222\n",
      "Starting another split\n",
      "Model training accuracy: 0.6908454227113556\n",
      "Model testing accuracy: 0.22645290581162325\n",
      "Starting another split\n",
      "Model training accuracy: 0.7178589294647324\n",
      "Model testing accuracy: 0.22444889779559118\n"
     ]
    }
   ],
   "source": [
    "random_forest_fingers = []\n",
    "for split in splits:\n",
    "    print('Starting another split')\n",
    "    x_train, y_train, x_test, y_test = split\n",
    "\n",
    "    model = RandomForestClassifier(\n",
    "        random_state = 154,\n",
    "        criterion = 'log_loss',\n",
    "        n_estimators = n_estimators,\n",
    "        max_depth = max_depth,\n",
    "        n_jobs = 6\n",
    "    )\n",
    "\n",
    "    model.fit(x_train, y_train)\n",
    "\n",
    "    print(f'Model training accuracy: {model.score(x_train, y_train)}')\n",
    "    print(f'Model testing accuracy: {model.score(x_test, y_test)}')\n",
    "\n",
    "    random_forest_fingers.append(model)"
   ],
   "metadata": {
    "collapsed": false,
    "ExecuteTime": {
     "end_time": "2024-01-11T05:58:57.366694Z",
     "start_time": "2024-01-11T05:58:56.425350Z"
    }
   },
   "id": "8b15e833d599f5da"
  },
  {
   "cell_type": "code",
   "execution_count": 180,
   "outputs": [],
   "source": [
    "def calculate_model_metrics(models, model_splits):\n",
    "    model_results = []\n",
    "\n",
    "    for model_i, split_i in zip(models, model_splits):\n",
    "        train_x, train_y, test_x, test_y = split_i\n",
    "\n",
    "        predicted_y = model_i.predict(test_x)\n",
    "\n",
    "        model_results.append({\n",
    "            'Accuracy': model_i.score(test_x, test_y),\n",
    "            'TrainAccuracy': model_i.score(train_x, train_y),\n",
    "            'MeanPrecisionPerClass': np.mean(precision_score(test_y, predicted_y, average = None)),\n",
    "            'MeanRecallPerClass': np.mean(recall_score(test_y, predicted_y, average = None))\n",
    "        })\n",
    "\n",
    "    return pd.DataFrame(model_results)"
   ],
   "metadata": {
    "collapsed": false,
    "ExecuteTime": {
     "end_time": "2024-01-11T05:59:29.423773Z",
     "start_time": "2024-01-11T05:59:29.394087Z"
    }
   },
   "id": "7aac4df93ab7a5c6"
  },
  {
   "cell_type": "code",
   "execution_count": 181,
   "outputs": [],
   "source": [
    "random_forest_eval = calculate_model_metrics(models = random_forest_fingers, model_splits = splits)"
   ],
   "metadata": {
    "collapsed": false,
    "ExecuteTime": {
     "end_time": "2024-01-11T05:59:30.171916Z",
     "start_time": "2024-01-11T05:59:29.911040Z"
    }
   },
   "id": "a74adbfc382c919f"
  },
  {
   "cell_type": "code",
   "execution_count": 182,
   "outputs": [
    {
     "data": {
      "text/plain": "<Figure size 800x400 with 1 Axes>",
      "image/png": "[encoded data removed]"
     },
     "metadata": {},
     "output_type": "display_data"
    }
   ],
   "source": [
    "plt.figure(figsize = (8, 4))\n",
    "random_forest_eval.boxplot()\n",
    "plt.ylim(0, 1)\n",
    "plt.show()"
   ],
   "metadata": {
    "collapsed": false,
    "ExecuteTime": {
     "end_time": "2024-01-11T05:59:39.243491Z",
     "start_time": "2024-01-11T05:59:39.186483Z"
    }
   },
   "id": "64cc61a096dcd88"
  },
  {
   "cell_type": "code",
   "execution_count": 183,
   "outputs": [],
   "source": [
    "best_model_idx = np.argmax(random_forest_eval['Accuracy'])\n",
    "model = random_forest_fingers[best_model_idx]\n",
    "split = splits[best_model_idx]\n",
    "x_train, y_train, x_test, y_test = split"
   ],
   "metadata": {
    "collapsed": false,
    "ExecuteTime": {
     "end_time": "2024-01-11T05:59:46.608006Z",
     "start_time": "2024-01-11T05:59:46.578160Z"
    }
   },
   "id": "93f087d4587af518"
  },
  {
   "cell_type": "code",
   "execution_count": 184,
   "outputs": [
    {
     "name": "stdout",
     "output_type": "stream",
     "text": [
      "Model training accuracy: 0.6908454227113556\n",
      "Model testing accuracy: 0.22645290581162325\n"
     ]
    }
   ],
   "source": [
    "print(f'Model training accuracy: {model.score(x_train, y_train)}')\n",
    "print(f'Model testing accuracy: {model.score(x_test, y_test)}')"
   ],
   "metadata": {
    "collapsed": false,
    "ExecuteTime": {
     "end_time": "2024-01-11T05:59:52.144110Z",
     "start_time": "2024-01-11T05:59:52.098224Z"
    }
   },
   "id": "80f6bb466a534d0d"
  },
  {
   "cell_type": "code",
   "execution_count": 185,
   "outputs": [
    {
     "data": {
      "text/plain": "<Figure size 640x480 with 2 Axes>",
      "image/png": "[encoded data removed]"
     },
     "metadata": {},
     "output_type": "display_data"
    }
   ],
   "source": [
    "predicted = model.predict(x_test)\n",
    "cm = confusion_matrix(y_test, predicted, labels = model.classes_)\n",
    "disp = ConfusionMatrixDisplay(confusion_matrix = cm)\n",
    "disp.plot()\n",
    "plt.title('Confusion matrix of the best model')\n",
    "plt.show()"
   ],
   "metadata": {
    "collapsed": false,
    "ExecuteTime": {
     "end_time": "2024-01-11T05:59:56.805572Z",
     "start_time": "2024-01-11T05:59:56.720010Z"
    }
   },
   "id": "2938fdbbcb575af6"
  },
  {
   "cell_type": "code",
   "execution_count": 187,
   "outputs": [
    {
     "data": {
      "text/plain": "0.2189803607214429"
     },
     "execution_count": 187,
     "metadata": {},
     "output_type": "execute_result"
    }
   ],
   "source": [
    "np.mean(random_forest_eval['Accuracy'])"
   ],
   "metadata": {
    "collapsed": false,
    "ExecuteTime": {
     "end_time": "2024-01-11T06:08:40.834490Z",
     "start_time": "2024-01-11T06:08:40.804857Z"
    }
   },
   "id": "f2eaf4125230d548"
  },
  {
   "cell_type": "code",
   "execution_count": 188,
   "outputs": [
    {
     "data": {
      "text/plain": "0.6946537833481305"
     },
     "execution_count": 188,
     "metadata": {},
     "output_type": "execute_result"
    }
   ],
   "source": [
    "np.mean(random_forest_eval['TrainAccuracy'])"
   ],
   "metadata": {
    "collapsed": false,
    "ExecuteTime": {
     "end_time": "2024-01-11T06:08:46.590788Z",
     "start_time": "2024-01-11T06:08:46.558676Z"
    }
   },
   "id": "616d26672e6b6524"
  },
  {
   "cell_type": "code",
   "execution_count": null,
   "outputs": [],
   "source": [],
   "metadata": {
    "collapsed": false
   },
   "id": "37ed8bd6e17322e6"
  }
 ],
 "metadata": {
  "kernelspec": {
   "display_name": "Python 3",
   "language": "python",
   "name": "python3"
  },
  "language_info": {
   "codemirror_mode": {
    "name": "ipython",
    "version": 2
   },
   "file_extension": ".py",
   "mimetype": "text/x-python",
   "name": "python",
   "nbconvert_exporter": "python",
   "pygments_lexer": "ipython2",
   "version": "2.7.6"
  }
 },
 "nbformat": 4,
 "nbformat_minor": 5
}
